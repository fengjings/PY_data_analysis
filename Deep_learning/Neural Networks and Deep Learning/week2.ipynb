{
 "cells": [
  {
   "cell_type": "code",
   "execution_count": 1,
   "metadata": {},
   "outputs": [
    {
     "name": "stdout",
     "output_type": "stream",
     "text": [
      "[1 2 3 4]\n"
     ]
    }
   ],
   "source": [
    "import numpy as np\n",
    "\n",
    "a=np.array([1,2,3,4])\n",
    "print(a)"
   ]
  },
  {
   "cell_type": "markdown",
   "metadata": {},
   "source": [
    "使用Vectorization 比for循环要快很多"
   ]
  },
  {
   "cell_type": "code",
   "execution_count": 14,
   "metadata": {},
   "outputs": [
    {
     "name": "stdout",
     "output_type": "stream",
     "text": [
      "0.5795955657958984ms\n",
      "249889.70454874253\n",
      "249.6342658996582ms\n",
      "249889.70454874236\n"
     ]
    }
   ],
   "source": [
    "import time\n",
    "\n",
    "a=np.random.rand(1000000)\n",
    "b=np.random.rand(1000000)\n",
    "\n",
    "tic = time.time()\n",
    "c=np.dot(a,b)\n",
    "toc=time.time()\n",
    "\n",
    "print(str(1000*(toc-tic))+'ms')\n",
    "print(c)\n",
    "c=0\n",
    "tic = time.time()\n",
    "for i in range(1000000):\n",
    "    c += a[i]*b[i]\n",
    "toc = time.time()\n",
    "\n",
    "print(str(1000*(toc-tic))+'ms')\n",
    "print(c)"
   ]
  },
  {
   "cell_type": "markdown",
   "metadata": {},
   "source": [
    "\n",
    "broadcasting 广播"
   ]
  },
  {
   "cell_type": "code",
   "execution_count": 30,
   "metadata": {},
   "outputs": [
    {
     "name": "stdout",
     "output_type": "stream",
     "text": [
      "[[ 1  2  3  4]\n",
      " [ 2  3  4  5]\n",
      " [ 7  8  9 10]]\n",
      "[[ 1  2  7]\n",
      " [ 2  3  8]\n",
      " [ 3  4  9]\n",
      " [ 4  5 10]]\n",
      "---\n",
      "[10 13 16 19]\n",
      "[10 14 34]\n",
      "[[10.         15.38461538 18.75       21.05263158]\n",
      " [20.         23.07692308 25.         26.31578947]\n",
      " [70.         61.53846154 56.25       52.63157895]]\n"
     ]
    }
   ],
   "source": [
    "A = np.array([[1,2,3,4],\n",
    "             [2,3,4,5],\n",
    "             [7,8,9,10]])\n",
    "print(A)\n",
    "print(A.T)\n",
    "print('---')\n",
    "cal = A.sum(axis = 0)\n",
    "print(A.sum(axis = 0))\n",
    "print(A.sum(axis = 1))\n",
    "\n",
    "percentage = 100*A/cal.reshape(1,4)\n",
    "print(percentage)"
   ]
  },
  {
   "cell_type": "markdown",
   "metadata": {},
   "source": [
    "不要使用rank 1的数组，a和a.T是一样的"
   ]
  },
  {
   "cell_type": "code",
   "execution_count": 35,
   "metadata": {},
   "outputs": [
    {
     "name": "stdout",
     "output_type": "stream",
     "text": [
      "[-0.08752322  0.48933358 -1.46794611  0.28092875 -0.56136683]\n",
      "<class 'numpy.ndarray'>\n",
      "(5,)\n",
      "[-0.08752322  0.48933358 -1.46794611  0.28092875 -0.56136683]\n",
      "2.7960271448008576\n"
     ]
    }
   ],
   "source": [
    "a = np.random.randn(5)\n",
    "print(a)\n",
    "print(type(a))\n",
    "print(a.shape)\n",
    "print(a.T)\n",
    "print(np.dot(a,a.T))"
   ]
  },
  {
   "cell_type": "code",
   "execution_count": 37,
   "metadata": {},
   "outputs": [
    {
     "name": "stdout",
     "output_type": "stream",
     "text": [
      "[[ 1.52373527]\n",
      " [-1.51893059]\n",
      " [-0.51856634]\n",
      " [ 0.37844688]\n",
      " [-0.91932255]]\n",
      "<class 'numpy.ndarray'>\n",
      "(5, 1)\n",
      "[[ 1.52373527 -1.51893059 -0.51856634  0.37844688 -0.91932255]]\n",
      "[[ 2.32176918 -2.31444811 -0.79015782  0.57665286 -1.4008042 ]\n",
      " [-2.31444811  2.30715013  0.78766627 -0.57483454  1.39638715]\n",
      " [-0.79015782  0.78766627  0.26891105 -0.19624981  0.47672973]\n",
      " [ 0.57665286 -0.57483454 -0.19624981  0.14322204 -0.34791475]\n",
      " [-1.4008042   1.39638715  0.47672973 -0.34791475  0.84515396]]\n"
     ]
    }
   ],
   "source": [
    "a = np.random.randn(5,1)# 列向量，1，5行向量\n",
    "print(a)\n",
    "print(type(a))\n",
    "print(a.shape)\n",
    "print(a.T)\n",
    "print(np.dot(a,a.T))"
   ]
  },
  {
   "cell_type": "code",
   "execution_count": null,
   "metadata": {},
   "outputs": [],
   "source": []
  }
 ],
 "metadata": {
  "kernelspec": {
   "display_name": "Python 3",
   "language": "python",
   "name": "python3"
  },
  "language_info": {
   "codemirror_mode": {
    "name": "ipython",
    "version": 3
   },
   "file_extension": ".py",
   "mimetype": "text/x-python",
   "name": "python",
   "nbconvert_exporter": "python",
   "pygments_lexer": "ipython3",
   "version": "3.7.3"
  }
 },
 "nbformat": 4,
 "nbformat_minor": 2
}
