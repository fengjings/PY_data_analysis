{
 "cells": [
  {
   "cell_type": "code",
   "execution_count": 1,
   "metadata": {},
   "outputs": [],
   "source": [
    "import numpy as np\n",
    "import h5py\n",
    "import matplotlib.pyplot as plt"
   ]
  },
  {
   "cell_type": "code",
   "execution_count": 2,
   "metadata": {},
   "outputs": [
    {
     "name": "stdout",
     "output_type": "stream",
     "text": [
      "26\n"
     ]
    }
   ],
   "source": [
    "print(np.dot([1,2,3],[3,4,5]))"
   ]
  },
  {
   "cell_type": "code",
   "execution_count": 13,
   "metadata": {},
   "outputs": [
    {
     "name": "stdout",
     "output_type": "stream",
     "text": [
      "[[1 1 0]]\n",
      "[[-0.22314355 -0.10536052 -0.91629073]]\n",
      "[[-0.32850407]]\n",
      "0.2797765635793422\n"
     ]
    }
   ],
   "source": [
    "\n",
    "Y =np.array([[1,1,0]])\n",
    "m = Y.shape[1]\n",
    "AL =np.array([[ 0.8,0.9,0.4]])\n",
    "print(Y)\n",
    "print(np.log(AL))\n",
    "print(np.dot(Y,np.log(AL).T))\n",
    "cost = -1/m*np.sum(np.dot(Y.T,np.log(AL))+np.dot((1-Y).T,np.log(1-AL)))\n",
    "cost = -1/m*np.sum(np.dot(Y,np.log(AL).T)+np.dot((1-Y),np.log(1-AL).T))\n",
    "\n",
    "\n",
    "\n",
    "print(cost)"
   ]
  },
  {
   "cell_type": "code",
   "execution_count": 19,
   "metadata": {},
   "outputs": [
    {
     "name": "stdout",
     "output_type": "stream",
     "text": [
      "[1 4 9]\n",
      "14\n"
     ]
    }
   ],
   "source": [
    "print(np.array([1,2,3])*np.array([1,2,3]))\n",
    "print(np.dot(np.array([1,2,3]),np.array([1,2,3])))"
   ]
  },
  {
   "cell_type": "code",
   "execution_count": 24,
   "metadata": {},
   "outputs": [
    {
     "name": "stdout",
     "output_type": "stream",
     "text": [
      "[[0.04399092]]\n",
      "[[0.04340305 0.00058787]]\n"
     ]
    }
   ],
   "source": [
    "dA = np.array([[-0.41675785, -0.05626683]])\n",
    "b = np.array([[-0.10414453, -0.01044791]])\n",
    "print(np.dot(dA,b.T))\n",
    "print(dA*b)"
   ]
  },
  {
   "cell_type": "code",
   "execution_count": null,
   "metadata": {},
   "outputs": [],
   "source": []
  }
 ],
 "metadata": {
  "kernelspec": {
   "display_name": "Python 3",
   "language": "python",
   "name": "python3"
  },
  "language_info": {
   "codemirror_mode": {
    "name": "ipython",
    "version": 3
   },
   "file_extension": ".py",
   "mimetype": "text/x-python",
   "name": "python",
   "nbconvert_exporter": "python",
   "pygments_lexer": "ipython3",
   "version": "3.7.3"
  }
 },
 "nbformat": 4,
 "nbformat_minor": 2
}
