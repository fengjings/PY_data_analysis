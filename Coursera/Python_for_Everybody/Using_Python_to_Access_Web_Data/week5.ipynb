{
 "cells": [
  {
   "cell_type": "code",
   "execution_count": 52,
   "metadata": {},
   "outputs": [
    {
     "name": "stdout",
     "output_type": "stream",
     "text": [
      "Retrieving http://py4e-data.dr-chuck.net/comments_387848.xml\n",
      "Retrieved 4216 characters\n",
      "50\n",
      "2653\n",
      "Retrieving http://py4e-data.dr-chuck.net/comments_387848.xml\n",
      "Retrieved 4216 characters\n",
      "50\n",
      "2653\n"
     ]
    }
   ],
   "source": [
    "import urllib.request, urllib.parse, urllib.error\n",
    "import xml.etree.ElementTree as ET\n",
    "import ssl\n",
    "\n",
    "api_key = False\n",
    "# If you have a Google Places API key, enter it here\n",
    "# api_key = 'AIzaSy___IDByT70'\n",
    "# https://developers.google.com/maps/documentation/geocoding/intro\n",
    "\n",
    "if api_key is False:\n",
    "    api_key = 42\n",
    "    serviceurl = 'http://py4e-data.dr-chuck.net/xml?'\n",
    "else :\n",
    "    serviceurl = 'https://maps.googleapis.com/maps/api/geocode/xml?'\n",
    "\n",
    "# Ignore SSL certificate errors\n",
    "ctx = ssl.create_default_context()\n",
    "ctx.check_hostname = False\n",
    "ctx.verify_mode = ssl.CERT_NONE\n",
    "i=0\n",
    "while i<2:\n",
    "    i+=1\n",
    "    address = 'http://py4e-data.dr-chuck.net/comments_387848.xml'# input('Enter location: ')\n",
    "    if len(address) < 1: break\n",
    "\n",
    "    parms = dict()\n",
    "    parms['address'] = address\n",
    "    if api_key is not False: parms['key'] = api_key\n",
    "    url = address # serviceurl + urllib.parse.urlencode(parms)\n",
    "    print('Retrieving', url)\n",
    "    uh = urllib.request.urlopen(url, context=ctx)\n",
    "\n",
    "    data = uh.read()\n",
    "    #print(data)\n",
    "    print('Retrieved', len(data), 'characters')\n",
    "    # print(data.decode())\n",
    "    tree = ET.fromstring(data)\n",
    "    \n",
    "    # counts = tree.findall('.//count')\n",
    "    # print('qweqwe',counts)\n",
    "    results = tree.findall('.//count')\n",
    "    lis = [int(i.text) for i in results]\n",
    "    # for value in results:\n",
    "    #     print(int(value.text))\n",
    "    # print((lis))\n",
    "    print(len(lis))\n",
    "    print(sum(lis))\n",
    "\n",
    "#     results = tree.findall('result')\n",
    "#     lat = results[0].find('geometry').find('location').find('lat').text\n",
    "#     lng = results[0].find('geometry').find('location').find('lng').text\n",
    "#     location = results[0].find('formatted_address').text\n",
    "\n",
    "#     print('lat', lat, 'lng', lng)\n",
    "#     print(location)"
   ]
  },
  {
   "cell_type": "code",
   "execution_count": 8,
   "metadata": {},
   "outputs": [
    {
     "data": {
      "text/plain": [
       "50"
      ]
     },
     "execution_count": 8,
     "metadata": {},
     "output_type": "execute_result"
    }
   ],
   "source": [
    "len(counts)"
   ]
  },
  {
   "cell_type": "code",
   "execution_count": 51,
   "metadata": {},
   "outputs": [
    {
     "name": "stdout",
     "output_type": "stream",
     "text": [
      "[97, 97, 90, 90, 88, 87, 87, 80, 79, 79, 78, 76, 76, 72, 72, 66, 66, 65, 65, 64, 61, 61, 59, 58, 57, 57, 54, 51, 49, 47, 40, 38, 37, 36, 36, 32, 25, 24, 22, 21, 19, 18, 18, 14, 12, 12, 9, 7, 3, 2]\n",
      "2553\n"
     ]
    }
   ],
   "source": [
    "# a = data.findall('.//name')\n",
    "results = tree.findall('.//count')\n",
    "lis = [int(i.text) for i in results]\n",
    "# for value in results:\n",
    "#     print(int(value.text))\n",
    "print((lis))\n",
    "print(sum(lis))"
   ]
  },
  {
   "cell_type": "code",
   "execution_count": 43,
   "metadata": {},
   "outputs": [
    {
     "data": {
      "text/plain": [
       "'http://py4e-data.dr-chuck.net/xml?address=http%3A%2F%2Fpy4e-data.dr-chuck.net%2Fcomments_42.xml&key=42'"
      ]
     },
     "execution_count": 43,
     "metadata": {},
     "output_type": "execute_result"
    }
   ],
   "source": [
    "serviceurl + urllib.parse.urlencode(parms)"
   ]
  },
  {
   "cell_type": "code",
   "execution_count": null,
   "metadata": {},
   "outputs": [],
   "source": []
  }
 ],
 "metadata": {
  "kernelspec": {
   "display_name": "Python 3",
   "language": "python",
   "name": "python3"
  },
  "language_info": {
   "codemirror_mode": {
    "name": "ipython",
    "version": 3
   },
   "file_extension": ".py",
   "mimetype": "text/x-python",
   "name": "python",
   "nbconvert_exporter": "python",
   "pygments_lexer": "ipython3",
   "version": "3.7.4"
  }
 },
 "nbformat": 4,
 "nbformat_minor": 2
}
