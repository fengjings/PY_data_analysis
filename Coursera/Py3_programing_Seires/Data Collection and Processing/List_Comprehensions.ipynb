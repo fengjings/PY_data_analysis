{
 "cells": [
  {
   "cell_type": "raw",
   "metadata": {},
   "source": [
    "[<transformer_expression> for <loop_var> in <sequence> if <filtration_expression>]"
   ]
  },
  {
   "cell_type": "raw",
   "metadata": {},
   "source": [
    "You can also combine map and filter operations by chaining them together, or with a single list comprehension."
   ]
  },
  {
   "cell_type": "code",
   "execution_count": 2,
   "metadata": {},
   "outputs": [
    {
     "name": "stdout",
     "output_type": "stream",
     "text": [
      "[8, 12, 0]\n",
      "[8, 12, 0]\n"
     ]
    }
   ],
   "source": [
    "things = [3, 4, 6, 7, 0, 1]\n",
    "#chaining together filter and map:\n",
    "# first, filter to keep only the even numbers\n",
    "# double each of them\n",
    "print(list(map(lambda x: x*2, filter(lambda y: y % 2 == 0, things))))\n",
    "\n",
    "# equivalent version using list comprehension\n",
    "print([x*2 for x in things if x % 2 == 0])\n"
   ]
  },
  {
   "cell_type": "raw",
   "metadata": {},
   "source": [
    "Write code to assign to the variable compri all the values of the key name in any of the sub-dictionaries in the dictionary tester. Do this using a list comprehension."
   ]
  },
  {
   "cell_type": "code",
   "execution_count": 5,
   "metadata": {},
   "outputs": [
    {
     "name": "stdout",
     "output_type": "stream",
     "text": [
      "[\n",
      "    {\n",
      "        \"name\": \"Lauren\",\n",
      "        \"class standing\": \"Junior\",\n",
      "        \"major\": \"Information Science\"\n",
      "    },\n",
      "    {\n",
      "        \"name\": \"Ayo\",\n",
      "        \"class standing\": \"Bachelor's\",\n",
      "        \"major\": \"Information Science\"\n",
      "    },\n",
      "    {\n",
      "        \"name\": \"Kathryn\",\n",
      "        \"class standing\": \"Senior\",\n",
      "        \"major\": \"Sociology\"\n",
      "    },\n",
      "    {\n",
      "        \"name\": \"Nick\",\n",
      "        \"class standing\": \"Junior\",\n",
      "        \"major\": \"Computer Science\"\n",
      "    },\n",
      "    {\n",
      "        \"name\": \"Gladys\",\n",
      "        \"class standing\": \"Sophomore\",\n",
      "        \"major\": \"History\"\n",
      "    },\n",
      "    {\n",
      "        \"name\": \"Adam\",\n",
      "        \"major\": \"Violin Performance\",\n",
      "        \"class standing\": \"Senior\"\n",
      "    }\n",
      "]\n",
      "['Lauren', 'Ayo', 'Kathryn', 'Nick', 'Gladys', 'Adam']\n"
     ]
    }
   ],
   "source": [
    "\n",
    "tester = {'info': [{\"name\": \"Lauren\", 'class standing': 'Junior', 'major': \"Information Science\"},{'name': 'Ayo', 'class standing': \"Bachelor's\", 'major': 'Information Science'}, {'name': 'Kathryn', 'class standing': 'Senior', 'major': 'Sociology'}, {'name': 'Nick', 'class standing': 'Junior', 'major': 'Computer Science'}, {'name': 'Gladys', 'class standing': 'Sophomore', 'major': 'History'}, {'name': 'Adam', 'major': 'Violin Performance', 'class standing': 'Senior'}]}\n",
    "\n",
    "inner_test = tester['info']\n",
    "# print(inner_test)\n",
    "import json\n",
    "print(json.dumps(inner_test,indent = 4))\n",
    "\n",
    "compri = [a['name'] for a in inner_test]\n",
    "\n",
    "print(compri)"
   ]
  },
  {
   "cell_type": "code",
   "execution_count": null,
   "metadata": {},
   "outputs": [],
   "source": []
  },
  {
   "cell_type": "code",
   "execution_count": null,
   "metadata": {},
   "outputs": [],
   "source": []
  },
  {
   "cell_type": "code",
   "execution_count": null,
   "metadata": {},
   "outputs": [],
   "source": []
  },
  {
   "cell_type": "code",
   "execution_count": null,
   "metadata": {},
   "outputs": [],
   "source": []
  },
  {
   "cell_type": "code",
   "execution_count": null,
   "metadata": {},
   "outputs": [],
   "source": []
  },
  {
   "cell_type": "code",
   "execution_count": null,
   "metadata": {},
   "outputs": [],
   "source": []
  },
  {
   "cell_type": "code",
   "execution_count": null,
   "metadata": {},
   "outputs": [],
   "source": []
  },
  {
   "cell_type": "code",
   "execution_count": null,
   "metadata": {},
   "outputs": [],
   "source": []
  }
 ],
 "metadata": {
  "kernelspec": {
   "display_name": "Python 3",
   "language": "python",
   "name": "python3"
  },
  "language_info": {
   "codemirror_mode": {
    "name": "ipython",
    "version": 3
   },
   "file_extension": ".py",
   "mimetype": "text/x-python",
   "name": "python",
   "nbconvert_exporter": "python",
   "pygments_lexer": "ipython3",
   "version": "3.7.3"
  }
 },
 "nbformat": 4,
 "nbformat_minor": 2
}
