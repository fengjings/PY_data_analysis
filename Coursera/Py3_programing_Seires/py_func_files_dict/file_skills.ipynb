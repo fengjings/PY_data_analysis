{
 "cells": [
  {
   "cell_type": "markdown",
   "metadata": {},
   "source": [
    "Use SP500 to calculate mean_sp and max_interest"
   ]
  },
  {
   "cell_type": "code",
   "execution_count": 1,
   "metadata": {},
   "outputs": [
    {
     "name": "stdout",
     "output_type": "stream",
     "text": [
      "['Date', 'SP500', 'Dividend', 'Earnings', 'Consumer Price Index', 'Long Interest Rate', 'Real Price', 'Real Dividend', 'Real Earnings', 'PE10\\n']\n",
      "2236.8816666666667 12 2.49\n"
     ]
    }
   ],
   "source": [
    "with open('SP500.txt','r') as txt:\n",
    "    row = 0\n",
    "    sumsp = 0\n",
    "    count = 0\n",
    "    max_interest = -10000.0\n",
    "    for line in txt:\n",
    "        row +=1\n",
    "        linelist = ((line.split(',')))\n",
    "        if row == 1:\n",
    "            head = linelist\n",
    "            print(head)\n",
    "        else:\n",
    "            # print(linelist[0].split('/'))\n",
    "            date = (linelist[0].split('/'))\n",
    "            if (int(date[0])>=6 and int(date[2])==2016) or (int(date[0])<=5 and int(date[2])==2017):\n",
    "                # print(date)\n",
    "                count +=1\n",
    "                sumsp = sumsp + float(linelist[1])\n",
    "                # print(linelist[1])\n",
    "                if float(linelist[5]) > max_interest:\n",
    "                    max_interest = float(linelist[5])\n",
    "    \n",
    "mean_SP = sumsp / count\n",
    "print(mean_SP,count,max_interest)"
   ]
  },
  {
   "cell_type": "code",
   "execution_count": 4,
   "metadata": {},
   "outputs": [
    {
     "name": "stdout",
     "output_type": "stream",
     "text": [
      "['Date', 'SP500', 'Dividend', 'Earnings', 'Consumer Price Index', 'Long Interest Rate', 'Real Price', 'Real Dividend', 'Real Earnings', 'PE10\\n']\n",
      "2236.8816666666667 12 2.49\n"
     ]
    }
   ],
   "source": [
    "with open('SP500.txt','r') as txt: \n",
    "    row = 0 \n",
    "    sumsp = 0 \n",
    "    count = 0 \n",
    "    for line in txt: \n",
    "        row +=1 \n",
    "        linelist = ((line.split(','))) \n",
    "        if row == 1: \n",
    "            head = linelist \n",
    "            print(head) \n",
    "        else: \n",
    "            if row == 2: \n",
    "                max_interest = float(linelist[5]) \n",
    "#             print(linelist[0].split('/')) \n",
    "            date = (linelist[0].split('/')) \n",
    "            if (int(date[0])>=6 and int(date[2])==2016) or (int(date[0])<=5 and int(date[2])==2017): \n",
    "                #print(date) \n",
    "                count +=1 \n",
    "                sumsp = sumsp + float(linelist[1]) \n",
    "                # print(linelist[1]) \n",
    "                if float(linelist[5]) > max_interest: \n",
    "                    max_interest = float(linelist[5]) \n",
    "\n",
    "mean_SP = sumsp / count \n",
    "print(mean_SP,count,max_interest) "
   ]
  },
  {
   "cell_type": "code",
   "execution_count": null,
   "metadata": {},
   "outputs": [],
   "source": []
  }
 ],
 "metadata": {
  "kernelspec": {
   "display_name": "Python 3",
   "language": "python",
   "name": "python3"
  },
  "language_info": {
   "codemirror_mode": {
    "name": "ipython",
    "version": 3
   },
   "file_extension": ".py",
   "mimetype": "text/x-python",
   "name": "python",
   "nbconvert_exporter": "python",
   "pygments_lexer": "ipython3",
   "version": "3.7.3"
  }
 },
 "nbformat": 4,
 "nbformat_minor": 2
}
