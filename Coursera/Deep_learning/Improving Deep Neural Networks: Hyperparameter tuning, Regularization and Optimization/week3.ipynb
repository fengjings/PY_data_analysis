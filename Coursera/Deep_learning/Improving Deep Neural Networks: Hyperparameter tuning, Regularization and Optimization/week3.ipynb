{
 "cells": [
  {
   "cell_type": "code",
   "execution_count": 1,
   "metadata": {},
   "outputs": [],
   "source": [
    "import tensorflow as tf\n",
    "import numpy as np"
   ]
  },
  {
   "cell_type": "code",
   "execution_count": 5,
   "metadata": {},
   "outputs": [
    {
     "name": "stdout",
     "output_type": "stream",
     "text": [
      "0.0\n"
     ]
    }
   ],
   "source": [
    "w = tf.Variable(0, dtype=tf.float32)\n",
    "\n",
    "# use '-10' instead of '-10.' will be wrong,for element-wise?\n",
    "\n",
    "cost = tf.add(tf.add(w**2, tf.multiply(-10., w)),25) # (w-5)^2\n",
    "# cost = w**2 - 10*w +25\n",
    "train = tf.train.GradientDescentOptimizer(0.01).minimize(cost)\n",
    "\n",
    "init = tf.global_variables_initializer()\n",
    "session = tf.Session()\n",
    "session.run(init)\n",
    "print(session.run(w))\n",
    "\n"
   ]
  },
  {
   "cell_type": "code",
   "execution_count": 3,
   "metadata": {},
   "outputs": [
    {
     "name": "stdout",
     "output_type": "stream",
     "text": [
      "0.099999994\n"
     ]
    }
   ],
   "source": [
    "session.run(train)\n",
    "print(session.run(w))"
   ]
  },
  {
   "cell_type": "code",
   "execution_count": 4,
   "metadata": {},
   "outputs": [
    {
     "name": "stdout",
     "output_type": "stream",
     "text": [
      "4.3501644\n",
      "4.91382\n",
      "4.9885707\n",
      "4.998484\n",
      "4.9997993\n",
      "4.999972\n",
      "4.9999886\n",
      "4.9999886\n",
      "4.9999886\n",
      "4.9999886\n"
     ]
    }
   ],
   "source": [
    "for i in range(1000):\n",
    "    session.run(train)\n",
    "    if i%100 == 99:\n",
    "        print(session.run(w))\n",
    "    "
   ]
  },
  {
   "cell_type": "code",
   "execution_count": 56,
   "metadata": {},
   "outputs": [
    {
     "name": "stdout",
     "output_type": "stream",
     "text": [
      "0.0\n"
     ]
    }
   ],
   "source": [
    "coefficient = np.array([[1], [10],[25]])\n",
    "# coefficient = np.array([[1.], [-10.],[25.]])\n",
    "w1 = tf.Variable(0, dtype=tf.float32)\n",
    "x = tf.placeholder(tf.float32,[3,1])\n",
    "cost1 = x[0][0]*w1**2 + x[1][0]*w1 +x[2][0]\n",
    "train1 = tf.train.GradientDescentOptimizer(0.01).minimize(cost1)\n",
    "\n",
    "init1 = tf.global_variables_initializer()\n",
    "session1 = tf.Session()\n",
    "session1.run(init1)\n",
    "print(session1.run(w))\n"
   ]
  },
  {
   "cell_type": "code",
   "execution_count": 57,
   "metadata": {},
   "outputs": [
    {
     "name": "stdout",
     "output_type": "stream",
     "text": [
      "-0.099999994\n"
     ]
    }
   ],
   "source": [
    "\n",
    "session1.run(train1, feed_dict={x: coefficient})\n",
    "print(session1.run(w1))"
   ]
  },
  {
   "cell_type": "code",
   "execution_count": 58,
   "metadata": {},
   "outputs": [
    {
     "name": "stdout",
     "output_type": "stream",
     "text": [
      "-4.3501644\n",
      "-4.91382\n",
      "-4.9885707\n",
      "-4.998484\n",
      "-4.9997993\n",
      "-4.999972\n",
      "-4.9999886\n",
      "-4.9999886\n",
      "-4.9999886\n",
      "-4.9999886\n",
      "-4.9999886\n",
      "-4.9999886\n",
      "-4.9999886\n",
      "-4.9999886\n",
      "-4.9999886\n",
      "-4.9999886\n",
      "-4.9999886\n",
      "-4.9999886\n",
      "-4.9999886\n",
      "-4.9999886\n"
     ]
    }
   ],
   "source": [
    "for i in range(2000):\n",
    "    session1.run(train1, feed_dict={x: coefficient})\n",
    "    if i%100 == 99:\n",
    "        print(session1.run(w1))"
   ]
  },
  {
   "cell_type": "code",
   "execution_count": null,
   "metadata": {},
   "outputs": [],
   "source": []
  },
  {
   "cell_type": "code",
   "execution_count": null,
   "metadata": {},
   "outputs": [],
   "source": []
  }
 ],
 "metadata": {
  "kernelspec": {
   "display_name": "Python 3",
   "language": "python",
   "name": "python3"
  },
  "language_info": {
   "codemirror_mode": {
    "name": "ipython",
    "version": 3
   },
   "file_extension": ".py",
   "mimetype": "text/x-python",
   "name": "python",
   "nbconvert_exporter": "python",
   "pygments_lexer": "ipython3",
   "version": "3.7.3"
  }
 },
 "nbformat": 4,
 "nbformat_minor": 2
}
