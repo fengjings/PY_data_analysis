{
 "cells": [
  {
   "cell_type": "code",
   "execution_count": 9,
   "metadata": {},
   "outputs": [
    {
     "name": "stdout",
     "output_type": "stream",
     "text": [
      "[[1. 1. 1. 1. 1.]\n",
      " [1. 1. 1. 1. 1.]\n",
      " [1. 1. 1. 1. 1.]\n",
      " [1. 1. 1. 1. 1.]]\n",
      "(4, 5)\n",
      "[[0.43006658 0.9809124  0.03624463 0.83635512 0.17284444]\n",
      " [0.86714286 0.75580902 0.0870017  0.25715681 0.4514436 ]\n",
      " [0.15302336 0.58973108 0.21012944 0.98156175 0.65696872]\n",
      " [0.31343543 0.38009487 0.63408816 0.09165329 0.36780319]]\n"
     ]
    }
   ],
   "source": [
    "import numpy as np\n",
    "a3 = np.ones([4,5])\n",
    "print(a3)\n",
    "print(a3.shape)\n",
    "d3 = np.random.rand(a3.shape[0], a3.shape[1])\n",
    "print(d3)"
   ]
  },
  {
   "cell_type": "code",
   "execution_count": null,
   "metadata": {},
   "outputs": [],
   "source": []
  }
 ],
 "metadata": {
  "kernelspec": {
   "display_name": "Python 3",
   "language": "python",
   "name": "python3"
  },
  "language_info": {
   "codemirror_mode": {
    "name": "ipython",
    "version": 3
   },
   "file_extension": ".py",
   "mimetype": "text/x-python",
   "name": "python",
   "nbconvert_exporter": "python",
   "pygments_lexer": "ipython3",
   "version": "3.7.3"
  }
 },
 "nbformat": 4,
 "nbformat_minor": 2
}
