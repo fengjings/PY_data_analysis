{
 "cells": [
  {
   "cell_type": "code",
   "execution_count": 1,
   "metadata": {},
   "outputs": [
    {
     "name": "stdout",
     "output_type": "stream",
     "text": [
      "Contents: 97\n",
      "Contents: 96\n",
      "Contents: 95\n",
      "Contents: 93\n",
      "Contents: 90\n",
      "Contents: 89\n",
      "Contents: 89\n",
      "Contents: 87\n",
      "Contents: 82\n",
      "Contents: 80\n",
      "Contents: 79\n",
      "Contents: 78\n",
      "Contents: 77\n",
      "Contents: 76\n",
      "Contents: 73\n",
      "Contents: 70\n",
      "Contents: 68\n",
      "Contents: 68\n",
      "Contents: 65\n",
      "Contents: 64\n",
      "Contents: 62\n",
      "Contents: 59\n",
      "Contents: 56\n",
      "Contents: 56\n",
      "Contents: 51\n",
      "Contents: 47\n",
      "Contents: 45\n",
      "Contents: 43\n",
      "Contents: 40\n",
      "Contents: 39\n",
      "Contents: 36\n",
      "Contents: 34\n",
      "Contents: 33\n",
      "Contents: 32\n",
      "Contents: 32\n",
      "Contents: 31\n",
      "Contents: 29\n",
      "Contents: 25\n",
      "Contents: 25\n",
      "Contents: 21\n",
      "Contents: 19\n",
      "Contents: 19\n",
      "Contents: 19\n",
      "Contents: 12\n",
      "Contents: 10\n",
      "Contents: 9\n",
      "Contents: 7\n",
      "Contents: 5\n",
      "Contents: 4\n",
      "Contents: 1\n",
      "2517\n"
     ]
    }
   ],
   "source": [
    "# To run this, download the BeautifulSoup zip file\n",
    "# http://www.py4e.com/code3/bs4.zip\n",
    "# and unzip it in the same directory as this file\n",
    "\n",
    "from urllib.request import urlopen\n",
    "from bs4 import BeautifulSoup\n",
    "import ssl\n",
    "\n",
    "# Ignore SSL certificate errors\n",
    "ctx = ssl.create_default_context()\n",
    "ctx.check_hostname = False\n",
    "ctx.verify_mode = ssl.CERT_NONE\n",
    "\n",
    "# url = input('Enter - ')\n",
    "# html = urlopen(url, context=ctx).read()\n",
    "html = urlopen('http://py4e-data.dr-chuck.net/comments_387846.html', context=ctx).read()\n",
    "soup = BeautifulSoup(html, \"html.parser\")\n",
    "\n",
    "# print((soup))\n",
    "# Retrieve all of the anchor tags\n",
    "tags = soup('span')\n",
    "number = []\n",
    "for tag in tags:\n",
    "    # Look at the parts of a tag\n",
    "    # print('TAG:', tag)\n",
    "    # print('URL:', tag.get('href', None))\n",
    "    print('Contents:', tag.contents[0])\n",
    "    number.append(tag.contents[0])\n",
    "    # print('Attrs:', tag.attrs)\n",
    "print(sum([int(i) for i in number]))"
   ]
  },
  {
   "cell_type": "code",
   "execution_count": 2,
   "metadata": {},
   "outputs": [
    {
     "name": "stdout",
     "output_type": "stream",
     "text": [
      "http://py4e-data.dr-chuck.net/known_by_Kayam.html\n",
      "1 http://py4e-data.dr-chuck.net/known_by_Kayam.html\n",
      "2 http://py4e-data.dr-chuck.net/known_by_Renia.html\n",
      "3 http://py4e-data.dr-chuck.net/known_by_Duriel.html\n",
      "4 http://py4e-data.dr-chuck.net/known_by_Stewart.html\n",
      "5 http://py4e-data.dr-chuck.net/known_by_Bret.html\n",
      "6 http://py4e-data.dr-chuck.net/known_by_Coupar.html\n",
      "7 http://py4e-data.dr-chuck.net/known_by_Leonard.html\n",
      "8 http://py4e-data.dr-chuck.net/known_by_Monty.html\n",
      "9 http://py4e-data.dr-chuck.net/known_by_Ashlee.html\n",
      "10 http://py4e-data.dr-chuck.net/known_by_Kennedi.html\n"
     ]
    }
   ],
   "source": [
    "# To run this, download the BeautifulSoup zip file\n",
    "# http://www.py4e.com/code3/bs4.zip\n",
    "# and unzip it in the same directory as this file\n",
    "\n",
    "import urllib.request, urllib.parse, urllib.error\n",
    "from bs4 import BeautifulSoup\n",
    "import ssl\n",
    "\n",
    "# Ignore SSL certificate errors\n",
    "ctx = ssl.create_default_context()\n",
    "ctx.check_hostname = False\n",
    "ctx.verify_mode = ssl.CERT_NONE\n",
    "\n",
    "# url = input('Enter - ')\n",
    "html = urllib.request.urlopen('http://py4e-data.dr-chuck.net/known_by_Kajally.html', context=ctx).read()\n",
    "soup = BeautifulSoup(html, 'html.parser')\n",
    "\n",
    "# Retrieve all of the anchor tags\n",
    "position =17\n",
    "tags = soup('a')\n",
    "print(tags[position].get('href', None))\n",
    "# for tag in tags:\n",
    "#     print(tag.get('href', None))\n",
    "\n",
    "# htm=0\n",
    "for i in range(10):\n",
    "    print(str(i+1),tags[position].get('href', None))\n",
    "    htm = urllib.request.urlopen(tags[position].get('href', None), context=ctx).read()\n",
    "    soup = BeautifulSoup(htm, 'html.parser')\n",
    "    tags = soup('a')\n",
    "    \n"
   ]
  },
  {
   "cell_type": "code",
   "execution_count": null,
   "metadata": {},
   "outputs": [],
   "source": []
  },
  {
   "cell_type": "code",
   "execution_count": null,
   "metadata": {},
   "outputs": [],
   "source": []
  },
  {
   "cell_type": "code",
   "execution_count": null,
   "metadata": {},
   "outputs": [],
   "source": []
  },
  {
   "cell_type": "code",
   "execution_count": null,
   "metadata": {},
   "outputs": [],
   "source": []
  },
  {
   "cell_type": "code",
   "execution_count": null,
   "metadata": {},
   "outputs": [],
   "source": []
  }
 ],
 "metadata": {
  "kernelspec": {
   "display_name": "Python 3",
   "language": "python",
   "name": "python3"
  },
  "language_info": {
   "codemirror_mode": {
    "name": "ipython",
    "version": 3
   },
   "file_extension": ".py",
   "mimetype": "text/x-python",
   "name": "python",
   "nbconvert_exporter": "python",
   "pygments_lexer": "ipython3",
   "version": "3.7.3"
  }
 },
 "nbformat": 4,
 "nbformat_minor": 2
}
