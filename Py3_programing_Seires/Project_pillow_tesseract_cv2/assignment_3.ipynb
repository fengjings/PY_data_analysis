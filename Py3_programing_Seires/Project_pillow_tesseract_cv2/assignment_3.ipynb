{
 "cells": [
  {
   "cell_type": "code",
   "execution_count": 2,
   "metadata": {},
   "outputs": [],
   "source": [
    "import math\n",
    "import zipfile\n",
    "from PIL import Image, ImageOps, ImageDraw\n",
    "import pytesseract\n",
    "import cv2 as cv\n",
    "import numpy as np"
   ]
  },
  {
   "cell_type": "code",
   "execution_count": 7,
   "metadata": {},
   "outputs": [
    {
     "data": {
      "text/plain": [
       "'a-0.png'"
      ]
     },
     "metadata": {},
     "output_type": "display_data"
    },
    {
     "name": "stdout",
     "output_type": "stream",
     "text": [
      "[{'name': 'a-0.png', 'img': <PIL.PngImagePlugin.PngImageFile image mode=RGB size=3600x6300 at 0x7FA7E58EB5F8>, 'text': \"Che Michigan Daily\\n\\nAnn Arbor, Michigan\\n\\nWednesday, November 5, 2014\\n\\nMIDTERM ELECTION 2014\\n\\nmichigandaily.com\\n\\n \\n\\nBIG DAY FOR REPUBLICANS\\n\\nSNYDER EARNS SECOND TERM; G.O.P. TAKES CONTROL OF U.S. SENATE\\n\\nMIDTERM\\nELECTION\\nRESULTS\\n\\nwww ww”\\n\\nSTATE\\n\\nEXECUTIVE\\nGOVERNOR\\nRick Snyder (R)\\n\\nLIEUTENANT\\nGOVERNOR\\nBrian Calley (R)\\n\\nSECRETARY OF\\nSTATE\\nRuth Johnson (R)\\n\\nSTATE\\nJUDICIAL\\n\\nATTORNEY GENERAL\\nBill Schuette CR)\\n\\nMICHIGAN\\nLEGISLATIVE\\n\\nMICHIGAN STATE\\nSENATE\\nRebekah Warren (D)\\n\\nMICHIGAN HOUSE\\nOF REPRESENTATIVES\\nJeff Irwin CD)\\n\\nU.S.\\nLEGISLATIVE\\n\\nU.S. SENATE\\nGary Peters (D)\\n\\nU.S. HOUSE OF\\nREPRESENTATIVES\\nDebbie Dingell (D)\\n\\nWASHTENAW\\nCOUNTY\\n\\nPROBATE COURT\\nJulia Owdziej (D)\\n\\nCIRCUIT COURT\\nPatrick Conlin (D)\\n\\nANN ARBOR\\nMAYOR\\nChristopher Taylor (D)\\n\\nCITY COUNCIL\\n\\nSumi Kailasapathy (D)\\nChuck Warpehoski (D)\\nJulie Grand (D)\\nGraydon Kraphol (D)\\nKirk Westphal (D)\\n\\nREGENTS\\n\\nToo close to call\\n\\nWEATHER |\\nTOMORROW |\\n\\nray\\n\\n7.\\n\\n \\n\\n \\n\\n \\n\\nTOP: Republican Gov. Rick Snyder celebrates after being reelected to a second term at the Renaissance Center in Detroit JAMES COLLER/Daily).\\n\\nBOTTOM LEFT: U.S. Senator-elect Gary Peters (D) celebrates after being elected to his first term at the MGM Grand Detroi\\n\\n(AMANDA ALLEN/ Daily).\\n\\nBOTTOM RIGHT: Attorney General Bill Schuette (R) addresses attendees at the Michigan Republican Party's watch party (JAMES COLLER/Daily).\\n\\nSnyder reelected\\nto second term\\n\\nBy nearly five point\\nmargin, governor\\nrides on record to\\n\\ndefeat Schauer\\n\\nBy BEN ATLAS\\nDaily Staff Reporter\\n\\nMichigan voters have granted\\nfour more years to the “nerd.”\\nRepublican Gov. Rick Snyder\\nwon reelection Tuesday, defeat-\\ning Democratic challenger Mark\\nSchauer ina closer-than-expect-\\ned campaign.\\n\\nWith most precincts in the\\nstate reporting, Snyder captured\\n51 percent of the vote compared\\nto Schauer’s 47 percent. In the\\nlast few days before the election,\\nSnyder and Schauer were close\\nin the polls with the Detroit Free\\nPress reporting a two-point lead\\nin Snyder’s favor on Oct. 29.\\n\\nIn his victory speech at the\\nRenaissance Center in Detroit\\nTuesday night, Snyder empha-\\nsized the economic trouble the\\nstate had long endured and his\\nefforts to fundamentally change\\nits course.\\n\\n“Our spirit was being broken,”\\n\\nGOT A NEWS TIP?\\nCall 734-418-4115 or e-mail\\n\\nnews@michigandaily.com and let us know.\\n\\nSnyder said. “It was not the time\\nto fix Michigan; that was not\\ngoing to be good enough. It was\\ntime to reinvent Michigan.”\\n\\nIn his speech, Snyder said\\nthere was plenty of evidence of\\nan economic turnaround. He\\npointed to the creation of nearly\\n300,000 private sector jobs, the\\nincrease in the value of Michi-\\ngan homes and the greater num-\\nber of college graduates taking\\njobs in the state as indicators of\\nsuccess.\\n\\nYet despite Snyder’s belief\\nin the success of his first term,\\nhe maintained there was much\\nwork to be done in the next four\\nyears.\\n\\n“When you have success like\\nthis what’s the next thing you\\nneed to do? It’s not to stay com-\\nplacent, it’s time to accelerate\\nand go even faster,” Snyder said.\\n\\nSnyder hinted at some of\\nhis goals for his second term,\\nlike filling tens of thousands of\\nskilled trade jobs, helping young\\npeople connect with education\\nopportunities and improving\\naccess to career technical edu-\\ncation, all of which he hopes will\\nlead to more well-paying middle\\nclass jobs.\\n\\nFour years after running on\\n\\nNEW ON MICHIGANDAILY.COM\\nThe Working Ethic: College ethics 101\\nMICHIGANDAILY.COM/BLOGS\\n\\na pledge to reinvent Michigan’s\\neconomy, Snyder was able to\\nsecure a second term largely\\non his fulfillment of that prom-\\nise. His supporters point to his\\nhands-on approach to Detroit’s\\nrecovery as a signature accom-\\nplishment of his first term. The\\nstate legislature, the city and its\\ncreditors and pensioners struck\\na Grand Bargain that allowed\\nthe city to move ahead with its\\nbankruptcy proceedings, which\\nwill wrap up this month.\\n\\nOn higher education, Snyder\\ncut state funding in 2011 with\\nthe promise to raise it again in\\nsubsequent years. He has incre-\\nmentally increased the funding\\nbut has yet to return it to the 2011\\nlevels. Consequently, Schauer\\nattempted to brand himself as\\nthe “education governor” in his\\ncampaign, calling for its funding\\nto be restored to pre-2011 levels\\nupon election to office.\\n\\nIn terms of the statewide\\neconomy, Snyder repealed the\\nMichigan Business Tax and\\nreplaced it with a flat tax to\\nappeal to new businesses, and\\neach of his last two budgets\\nhave resulted in a surplus. Addi-\\ntionally, the state’s 7.2-percent\\n\\nSee SNYDER, Page 4A\\n\\nINDEX\\n\\n \\n\\nVol. CXXIV, No. 23\\n©2014 The Michigan Daily\\n\\nIn dark day\\n\\nDemocratic U.S.\\nSenate candidate\\nbucks national\\ntrend\\n\\nBy SHOHAM GEVA\\nDaily Staff Reporter\\n\\nU.S. House Rep. Gary Peters\\n(D-Detroit) will be the next\\nU.S Senator from Michigan.\\n\\nPeters, who has served in the\\nU.S House of Representatives\\nfor five years, faced off against\\nTerri Lynn Land, former\\nMichigan Secretary of State.\\nThe race was called by CNN\\nand the Detroit Free Press at 9\\np.m, and as of press time early\\nWednesday morning with 95\\npercent of precincts reporting,\\nPeters led Land 55 percent to\\n41 percent.\\n\\nMinutes after Peters’ pro-\\njected win was announced,\\nLand called Peters to concede.\\nShe did not release a statement,\\ntalk to the press or speak to\\nthe Republican watch party in\\n\\nDetroit following her conces-\\nsion.\\n\\nPeters will succeed fellow\\nDemocrat Carl Levin, who has\\nserved in the U.S. Senate for\\nmore than 35 years. The seat\\nwas originally expected to be\\nhotly contested and potentially\\na key race to determine which\\nparty would be the overall\\nmajority in the Senate.\\n\\nHowever, Peters, who main-\\ntained a slight lead in the polls\\nover Land throughout much\\nof the general election season,\\npulled away from his opponent\\nsignificantly by the last quar-\\nter of the race to a double-digit\\nlead.\\n\\n“Michigan was obviously a\\nsquandered opportunity for\\nthe Republicans,” Political\\nScience Prof. Michael Trau-\\ngott said Tuesday night. “Her\\ncampaign got off to a bad start\\nbecause of the initial interac-\\ntion with the media, so her\\ncampaign team decided to\\nhide her from reporters and\\nrestricted her access to voters\\nat public events, so she never\\n\\nSee PETERS, Page 4A\\n\\nNEWS. 2A SPORTS... ee 7A\\nSUDOKU... 2A CLASSIFIEDS... 6A\\nOPINION... 3A THESTATEMENT........... 1B\\n\\nmichigandaily.com\"}]\n"
     ]
    }
   ],
   "source": [
    "parsed_img_src = {}\n",
    "data_list = []\n",
    "with zipfile.ZipFile('readonly/small_img.zip', 'r') as files:\n",
    "    for file in files.infolist()[:1]:\n",
    "        # printing out the name of the file\n",
    "        display(file.filename)\n",
    "        # name\n",
    "        name = file.filename\n",
    "        # image \n",
    "        img = Image.open(files.open(name))\n",
    "        # text\n",
    "        img_str = pytesseract.image_to_string(img.convert('L'))\n",
    "\n",
    "        if (\"Chris\" in img_str):\n",
    "             # example of dictionary\n",
    "            my_dic = {\"name\":name, \"img\":img, \"text\":img_str}\n",
    "            data_list.append(my_dic)\n",
    "print(data_list)"
   ]
  },
  {
   "cell_type": "code",
   "execution_count": null,
   "metadata": {},
   "outputs": [],
   "source": []
  },
  {
   "cell_type": "code",
   "execution_count": null,
   "metadata": {},
   "outputs": [],
   "source": []
  },
  {
   "cell_type": "code",
   "execution_count": null,
   "metadata": {},
   "outputs": [],
   "source": []
  },
  {
   "cell_type": "code",
   "execution_count": null,
   "metadata": {},
   "outputs": [],
   "source": []
  },
  {
   "cell_type": "code",
   "execution_count": null,
   "metadata": {},
   "outputs": [],
   "source": []
  }
 ],
 "metadata": {
  "kernelspec": {
   "display_name": "Python 3",
   "language": "python",
   "name": "python3"
  },
  "language_info": {
   "codemirror_mode": {
    "name": "ipython",
    "version": 3
   },
   "file_extension": ".py",
   "mimetype": "text/x-python",
   "name": "python",
   "nbconvert_exporter": "python",
   "pygments_lexer": "ipython3",
   "version": "3.7.1"
  }
 },
 "nbformat": 4,
 "nbformat_minor": 2
}
