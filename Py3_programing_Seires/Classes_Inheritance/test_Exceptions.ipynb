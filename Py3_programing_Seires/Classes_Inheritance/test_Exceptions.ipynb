{
 "cells": [
  {
   "cell_type": "markdown",
   "metadata": {},
   "source": [
    "tests\n",
    "\n",
    "The key aspects of the process are:\n",
    "\n",
    "Make sure you know what you are trying to accomplish. Then you can write appropriate unit tests.\n",
    "\n",
    "Start with a working skeleton program and make small incremental changes. At any point, if there is an error, you will know exactly where it is.\n",
    "\n",
    "Use temporary variables to hold intermediate values so that you can easily inspect and check them.\n",
    "\n",
    "Once the program is working, you might want to consolidate multiple statements into compound expressions, but only do this if it does not make the program more difficult to read."
   ]
  },
  {
   "cell_type": "markdown",
   "metadata": {},
   "source": [
    "Exceptions\n",
    "happens when runtime error\n",
    "/Exception/ can handle any kind of runtime error"
   ]
  },
  {
   "cell_type": "code",
   "execution_count": 1,
   "metadata": {},
   "outputs": [
    {
     "name": "stdout",
     "output_type": "stream",
     "text": [
      "got an error\n",
      "continuing\n"
     ]
    }
   ],
   "source": [
    "try:\n",
    "    items = ['a', 'b']\n",
    "    third = items[2]\n",
    "    print(\"This won't print\")\n",
    "except Exception:\n",
    "    print(\"got an error\")\n",
    "\n",
    "print(\"continuing\")\n"
   ]
  },
  {
   "cell_type": "code",
   "execution_count": 3,
   "metadata": {},
   "outputs": [
    {
     "name": "stdout",
     "output_type": "stream",
     "text": [
      "error 1\n",
      "continuing\n",
      "error 2\n",
      "continuing again\n"
     ]
    }
   ],
   "source": [
    "try:\n",
    "    items = ['a', 'b']\n",
    "    third = items[2]\n",
    "    print(\"This won't print\")\n",
    "except IndexError:\n",
    "    print(\"error 1\")\n",
    "\n",
    "print(\"continuing\")\n",
    "\n",
    "try:\n",
    "    x = 5\n",
    "    y = x/0\n",
    "    print(\"This won't print, either\")\n",
    "except ZeroDivisionError:\n",
    "    print(\"error 2\")\n",
    "\n",
    "\n",
    "print(\"continuing again\")\n"
   ]
  },
  {
   "cell_type": "markdown",
   "metadata": {},
   "source": [
    "There’s one other useful feature. The exception code can access a variable that contains information about exactly what the error was. Thus, for example, in the except clause you could print out the information that would normally be printed as an error message but continue on with execution of the rest of the program. To do that, you specify a variable name after the exception class that’s being handled. The exception clause code can refer to that variable name."
   ]
  },
  {
   "cell_type": "code",
   "execution_count": 11,
   "metadata": {},
   "outputs": [
    {
     "name": "stdout",
     "output_type": "stream",
     "text": [
      "got an error\n",
      "continuing\n"
     ]
    }
   ],
   "source": [
    "try:\n",
    "    items = ['a', 'b']\n",
    "    third = items[2]\n",
    "    print(\"This won't print\")\n",
    "except Exception: #except Exception, e:\n",
    "    print(\"got an error\")\n",
    "    # print(e)\n",
    "\n",
    "print(\"continuing\")\n"
   ]
  },
  {
   "cell_type": "markdown",
   "metadata": {},
   "source": [
    "Below, we have provided code that does not run. Add a try/except clause so the code runs without errors. If an element is not able to undergo the addition operation, the string ‘Error’ should be appended to plus_four."
   ]
  },
  {
   "cell_type": "code",
   "execution_count": 12,
   "metadata": {},
   "outputs": [
    {
     "name": "stdout",
     "output_type": "stream",
     "text": [
      "<class 'type'>\n"
     ]
    }
   ],
   "source": [
    "\n",
    "nums = [5, 9, '4', 3, 2, 1, 6, 5, '7', 4, 3, 2, 6, 7, 8, '0', 3, 4, 0, 6, 5, '3', 5, 6, 7, 8, '3', '1', 5, 6, 7, 9, 3, 2, 5, 6, '9', 2, 3, 4, 5, 1]\n",
    "\n",
    "plus_four = []\n",
    "try:\n",
    "    for num in nums:\n",
    "        if type(num) == type('sfd'):\n",
    "            plus_four.append(\"Error\")           \n",
    "        else:\n",
    "            plus_four.append(num+4)\n",
    "except Exception:  \n",
    "    print(plus_four)\n",
    "\n"
   ]
  },
  {
   "cell_type": "markdown",
   "metadata": {},
   "source": [
    "The reason to use try/except is when you have a code block to execute that will sometimes run correctly and sometimes not, depending on conditions you can’t foresee at the time you’re writing the code.\n",
    "\n",
    "if somekey in d:\n",
    "    # it's there; extract the data\n",
    "    extract_data(d)\n",
    "else:\n",
    "    skip_this_one(d)\n",
    "    \n",
    "try:\n",
    "    extract_data(d)\n",
    "except:\n",
    "    skip_this_one(d)\n",
    "    \n",
    "try:\n",
    "    extract_data(d)\n",
    "except KeyError:\n",
    "    skip_this_one(d)    \n",
    "    \n",
    "    "
   ]
  },
  {
   "cell_type": "markdown",
   "metadata": {},
   "source": [
    "The code below takes the list of country, country, and searches to see if it is in the dictionary gold which shows some countries who won gold during the Olympics. However, this code currently does not work. Correctly add try/except clause in the code so that it will correctly populate the list, country_gold, with either the number of golds won or the string “Did not get gold”."
   ]
  },
  {
   "cell_type": "code",
   "execution_count": 13,
   "metadata": {},
   "outputs": [
    {
     "name": "stdout",
     "output_type": "stream",
     "text": [
      "[1, 'Did not get gold', 'Did not get gold', 10, 'Did not get gold', 46]\n"
     ]
    }
   ],
   "source": [
    "\n",
    "gold = {\"US\":46, \"Fiji\":1, \"Great Britain\":27, \"Cuba\":5, \"Thailand\":2, \"China\":26, \"France\":10}\n",
    "country = [\"Fiji\", \"Chile\", \"Mexico\", \"France\", \"Norway\", \"US\"]\n",
    "country_gold = []\n",
    "\n",
    "try:\n",
    "    for x in country:\n",
    "        if x in gold:\n",
    "            country_gold.append(gold[x])\n",
    "            # country_gold.append(\"Did not get gold\")\n",
    "        else:\n",
    "            country_gold.append(\"Did not get gold\")\n",
    "except:\n",
    "    print(x)\n",
    "\n",
    "print(country_gold)"
   ]
  },
  {
   "cell_type": "markdown",
   "metadata": {},
   "source": [
    "The list, numb, contains integers. Write code that populates the list remainder with the remainder of 36 divided by each number in numb. For example, the first element should be 0, because 36/6 has no remainder. If there is an error, have the string “Error” appear in the remainder."
   ]
  },
  {
   "cell_type": "code",
   "execution_count": 14,
   "metadata": {},
   "outputs": [
    {
     "name": "stdout",
     "output_type": "stream",
     "text": [
      "[0, 'Error', 0, 4, 0, 0, 'Error', 0, 36, 'Error', 36, 'Error', 0, 13]\n"
     ]
    }
   ],
   "source": [
    "\n",
    "numb = [6, 0, 36, 8, 2, 36, 0, 12, 60, 0, 45, 0, 3, 23]\n",
    "\n",
    "remainder = []\n",
    "\n",
    "for i in numb:\n",
    "    try:\n",
    "        remainder.append(36%i)\n",
    "    except:\n",
    "        remainder.append('Error')\n",
    "print(remainder)"
   ]
  },
  {
   "cell_type": "markdown",
   "metadata": {},
   "source": [
    "Provided is buggy code, insert a try/except so that the code passes."
   ]
  },
  {
   "cell_type": "code",
   "execution_count": 15,
   "metadata": {},
   "outputs": [],
   "source": [
    "\n",
    "lst = [2,4,10,42,12,0,4,7,21,4,83,8,5,6,8,234,5,6,523,42,34,0,234,1,435,465,56,7,3,43,23]\n",
    "\n",
    "lst_three = []\n",
    "\n",
    "for num in lst:\n",
    "    try:\n",
    "        if 3 % num == 0:\n",
    "            lst_three.append(num)\n",
    "    except:\n",
    "        pass\n",
    "            \n",
    "            "
   ]
  },
  {
   "cell_type": "markdown",
   "metadata": {},
   "source": [
    "Write code so that the buggy code provided works using a try/except. When the codes does not work in the try, have it append to the list attempt the string “Error”."
   ]
  },
  {
   "cell_type": "code",
   "execution_count": 16,
   "metadata": {},
   "outputs": [
    {
     "name": "stdout",
     "output_type": "stream",
     "text": [
      "['b', 'd', 'g', 'Error', 'k', 'o', 'r', 'Error', 'v', 'x', 'Error']\n"
     ]
    }
   ],
   "source": [
    "\n",
    "full_lst = [\"ab\", 'cde', 'fgh', 'i', 'jkml', 'nop', 'qr', 's', 'tv', 'wxy', 'z']\n",
    "\n",
    "attempt = []\n",
    "\n",
    "for elem in full_lst:\n",
    "    try:\n",
    "        attempt.append(elem[1])\n",
    "    except:\n",
    "        attempt.append('Error')\n",
    "print(attempt)"
   ]
  },
  {
   "cell_type": "code",
   "execution_count": null,
   "metadata": {},
   "outputs": [],
   "source": [
    "The following code tries to append the third element of each list in conts to the new list third_countries. Currently, the code does not work. Add a try/except clause so the code runs without errors, and the string ‘Continent does not have 3 countries’ is appended to countries instead of producing an error."
   ]
  },
  {
   "cell_type": "code",
   "execution_count": 17,
   "metadata": {},
   "outputs": [
    {
     "name": "stdout",
     "output_type": "stream",
     "text": [
      "['Greece', 'Canada', 'Korea', 'Brazil', 'Continent does not have 3 countries', 'Kenya', 'Continent does not have 3 countries']\n"
     ]
    }
   ],
   "source": [
    "\n",
    "conts = [['Spain', 'France', 'Greece', 'Portugal', 'Romania', 'Germany'], ['USA', 'Mexico', 'Canada'], ['Japan', 'China', 'Korea', 'Vietnam', 'Cambodia'], ['Argentina', 'Chile', 'Brazil', 'Ecuador', 'Uruguay', 'Venezuela'], ['Australia'], ['Zimbabwe', 'Morocco', 'Kenya', 'Ethiopa', 'South Africa'], ['Antarctica']]\n",
    "\n",
    "third_countries = []\n",
    "\n",
    "for c in conts:\n",
    "    try:\n",
    "        third_countries.append(c[2])\n",
    "    except:\n",
    "        third_countries.append('Continent does not have 3 countries')\n",
    "print(third_countries)\n"
   ]
  },
  {
   "cell_type": "code",
   "execution_count": 18,
   "metadata": {},
   "outputs": [
    {
     "name": "stdout",
     "output_type": "stream",
     "text": [
      "['c', 'c', 'c', 's', 's', 'p', 'b', 'l', 'l']\n"
     ]
    }
   ],
   "source": [
    "\n",
    "food = [\"chocolate\", \"chicken\", \"corn\", \"sandwich\", \"soup\", \"potatoes\", \"beef\", \"lox\", \"lemonade\"]\n",
    "fifth = []\n",
    "\n",
    "for x in food:\n",
    "    try:\n",
    "        fifth.append(x[0])\n",
    "    except:\n",
    "        pass\n",
    "print(fifth)\n"
   ]
  },
  {
   "cell_type": "markdown",
   "metadata": {},
   "source": [
    "The time.sleep(s) function (from the time module) delays execution of the next line of code for s seconds. You’ll find that we can build a little suspense during gameplay with some well-placed delays. The game can also be easier for users to understand if not everything happens instantly."
   ]
  },
  {
   "cell_type": "code",
   "execution_count": 19,
   "metadata": {},
   "outputs": [
    {
     "name": "stdout",
     "output_type": "stream",
     "text": [
      "Sleep 2 seconds..\n",
      "Done!\n"
     ]
    }
   ],
   "source": [
    "import time\n",
    "\n",
    "for x in range(2, 3):\n",
    "    print('Sleep {} seconds..'.format(x))\n",
    "    time.sleep(x) # \"Sleep\" for x seconds\n",
    "print('Done!')\n"
   ]
  },
  {
   "cell_type": "markdown",
   "metadata": {},
   "source": [
    "The random module includes several useful methods for generating and using random numbers, including:\n",
    "\n",
    "random.randint(min, max) generates a random number between min and max (inclusive)\n",
    "\n",
    "random.choice(L) selects a random item from the list L"
   ]
  },
  {
   "cell_type": "code",
   "execution_count": 20,
   "metadata": {},
   "outputs": [
    {
     "name": "stdout",
     "output_type": "stream",
     "text": [
      "Random number between 1 and 10: 3\n",
      "Random letter: H\n"
     ]
    }
   ],
   "source": [
    "import random\n",
    "\n",
    "rand_number = random.randint(1, 10)\n",
    "print('Random number between 1 and 10: {}'.format(rand_number))\n",
    "\n",
    "letters = [letter for letter in 'ABCDEFGHIJKLMNOPQRSTUVWXYZ']\n",
    "rand_letter = random.choice(letters)\n",
    "print('Random letter: {}'.format(rand_letter))\n"
   ]
  },
  {
   "cell_type": "markdown",
   "metadata": {},
   "source": [
    "There are also several string methods that we haven’t gone over in detail but will use for this project:\n",
    "\n",
    ".upper() converts a string to uppercase (the opposite is .lower())\n",
    "\n",
    ".count(s) counts how many times the string s occurs inside of a larger string"
   ]
  },
  {
   "cell_type": "code",
   "execution_count": 21,
   "metadata": {},
   "outputs": [
    {
     "name": "stdout",
     "output_type": "stream",
     "text": [
      "HELLO, WORLD! 123\n",
      "hello, world! 123\n",
      "3\n",
      "2\n"
     ]
    }
   ],
   "source": [
    "myString = 'Hello, World! 123'\n",
    "\n",
    "print(myString.upper()) # HELLO, WORLD! 123\n",
    "print(myString.lower()) # hello, world! 123\n",
    "print(myString.count('l')) # 3\n",
    "\n",
    "s = 'python is pythonic'\n",
    "print(s.count('python')) # 2\n"
   ]
  },
  {
   "cell_type": "markdown",
   "metadata": {},
   "source": [
    "We’re going to define a few useful methods for you:\n",
    "\n",
    "getNumberBetween(prompt, min, max)) repeatedly asks the user for a number between min and max with the prompt prompt\n",
    "\n",
    "spinWheel() simulates spinning the wheel and returns a dictionary with a random prize\n",
    "\n",
    "getRandomCategoryAndPhrase() returns a tuple with a random category and phrase for players to guess\n",
    "\n",
    "obscurePhrase(phrase, guessed) returns a tuple with a random category and phrase for players to guess\n",
    "\n",
    "Take some time to read their implementations below."
   ]
  },
  {
   "cell_type": "code",
   "execution_count": 22,
   "metadata": {},
   "outputs": [
    {
     "ename": "FileNotFoundError",
     "evalue": "[Errno 2] No such file or directory: 'phrases.json'",
     "output_type": "error",
     "traceback": [
      "\u001b[0;31m---------------------------------------------------------------------------\u001b[0m",
      "\u001b[0;31mFileNotFoundError\u001b[0m                         Traceback (most recent call last)",
      "\u001b[0;32m<ipython-input-22-78a47feac4f1>\u001b[0m in \u001b[0;36m<module>\u001b[0;34m\u001b[0m\n\u001b[1;32m     67\u001b[0m Guessed:  {}\"\"\".format(category, obscuredPhrase, ', '.join(sorted(guessed)))\n\u001b[1;32m     68\u001b[0m \u001b[0;34m\u001b[0m\u001b[0m\n\u001b[0;32m---> 69\u001b[0;31m \u001b[0mcategory\u001b[0m\u001b[0;34m,\u001b[0m \u001b[0mphrase\u001b[0m \u001b[0;34m=\u001b[0m \u001b[0mgetRandomCategoryAndPhrase\u001b[0m\u001b[0;34m(\u001b[0m\u001b[0;34m)\u001b[0m\u001b[0;34m\u001b[0m\u001b[0;34m\u001b[0m\u001b[0m\n\u001b[0m\u001b[1;32m     70\u001b[0m \u001b[0;34m\u001b[0m\u001b[0m\n\u001b[1;32m     71\u001b[0m \u001b[0mguessed\u001b[0m \u001b[0;34m=\u001b[0m \u001b[0;34m[\u001b[0m\u001b[0;34m]\u001b[0m\u001b[0;34m\u001b[0m\u001b[0;34m\u001b[0m\u001b[0m\n",
      "\u001b[0;32m<ipython-input-22-78a47feac4f1>\u001b[0m in \u001b[0;36mgetRandomCategoryAndPhrase\u001b[0;34m()\u001b[0m\n\u001b[1;32m     39\u001b[0m \u001b[0;31m#     (\"Artist & Song\", \"Whitney Houston's I Will Always Love You\")\u001b[0m\u001b[0;34m\u001b[0m\u001b[0;34m\u001b[0m\u001b[0;34m\u001b[0m\u001b[0m\n\u001b[1;32m     40\u001b[0m \u001b[0;32mdef\u001b[0m \u001b[0mgetRandomCategoryAndPhrase\u001b[0m\u001b[0;34m(\u001b[0m\u001b[0;34m)\u001b[0m\u001b[0;34m:\u001b[0m\u001b[0;34m\u001b[0m\u001b[0;34m\u001b[0m\u001b[0m\n\u001b[0;32m---> 41\u001b[0;31m     \u001b[0;32mwith\u001b[0m \u001b[0mopen\u001b[0m\u001b[0;34m(\u001b[0m\u001b[0;34m\"phrases.json\"\u001b[0m\u001b[0;34m,\u001b[0m \u001b[0;34m'r'\u001b[0m\u001b[0;34m)\u001b[0m \u001b[0;32mas\u001b[0m \u001b[0mf\u001b[0m\u001b[0;34m:\u001b[0m\u001b[0;34m\u001b[0m\u001b[0;34m\u001b[0m\u001b[0m\n\u001b[0m\u001b[1;32m     42\u001b[0m         \u001b[0mphrases\u001b[0m \u001b[0;34m=\u001b[0m \u001b[0mjson\u001b[0m\u001b[0;34m.\u001b[0m\u001b[0mloads\u001b[0m\u001b[0;34m(\u001b[0m\u001b[0mf\u001b[0m\u001b[0;34m.\u001b[0m\u001b[0mread\u001b[0m\u001b[0;34m(\u001b[0m\u001b[0;34m)\u001b[0m\u001b[0;34m)\u001b[0m\u001b[0;34m\u001b[0m\u001b[0;34m\u001b[0m\u001b[0m\n\u001b[1;32m     43\u001b[0m \u001b[0;34m\u001b[0m\u001b[0m\n",
      "\u001b[0;31mFileNotFoundError\u001b[0m: [Errno 2] No such file or directory: 'phrases.json'"
     ]
    }
   ],
   "source": []
  },
  {
   "cell_type": "code",
   "execution_count": 31,
   "metadata": {},
   "outputs": [
    {
     "data": {
      "text/plain": [
       "['B',\n",
       " 'C',\n",
       " 'D',\n",
       " 'G',\n",
       " 'J',\n",
       " 'K',\n",
       " 'L',\n",
       " 'M',\n",
       " 'N',\n",
       " 'P',\n",
       " 'Q',\n",
       " 'R',\n",
       " 'S',\n",
       " 'V',\n",
       " 'W',\n",
       " 'X',\n",
       " 'Y',\n",
       " 'Z']"
      ]
     },
     "execution_count": 31,
     "metadata": {},
     "output_type": "execute_result"
    }
   ],
   "source": [
    "VOWEL_COST = 250\n",
    "LETTERS = 'ABCDEFGHIJKLMNOPQRSTUVWXYZ'\n",
    "VOWELS = 'AEIOU'\n",
    "\n",
    "# Write the WOFPlayer class definition (part A) here\n",
    "class WOFPlayer:\n",
    "    def __init__(self,name):\n",
    "        self.name = name\n",
    "        self.prizeMoney = 0\n",
    "        self.prizes = []\n",
    "    def addMoney(self,amt):\n",
    "        self.prizeMoney += amt\n",
    "    def goBankrupt(self):\n",
    "        self.prizeMoney = 0\n",
    "    def addPrize(self,prize):\n",
    "        self.prizes.append(prize)\n",
    "    def __str__(self):\n",
    "        return '{} (${})'.format(self.name,self.prizeMoney)\n",
    "# Write the WOFHumanPlayer class definition (part B) here\n",
    "class WOFHumanPlayer(WOFPlayer):\n",
    "    def getMove(category, obscuredPhrase, guessed):\n",
    "        return input(\"Guess a letter, phrase, or type 'exit' or 'pass':\")\n",
    "# Write the WOFComputerPlayer class definition (part C) here\n",
    "class WOFComputerPlayer(WOFPlayer):\n",
    "    SORTED_FREQUENCIES = 'ZQXJKVBPYGFWMUCLDRHSNIOATE'\n",
    "    def __init__(self, name, difficulty):\n",
    "        self.name = name\n",
    "        self.difficulty = difficulty\n",
    "        self.prizeMoney = 0\n",
    "        self.prizes = []\n",
    "        \n",
    "\n",
    "    def smartCoinFlip(self):\n",
    "        if random.randint(1, 10) > self.difficulty:\n",
    "            return True\n",
    "        else:\n",
    "            return False\n",
    "\n",
    "    def getPossibleLetters(self,guessed):\n",
    "        lst = []\n",
    "        tmp = []\n",
    "        for l in 'ABCDEFGHIJKLMNOPQRSTUVWXYZ':\n",
    "            if l in guessed:\n",
    "                pass\n",
    "            else:\n",
    "                lst.append(l)\n",
    "        tmp = lst[:]\n",
    "        # Check for vowels\n",
    "        if self.prizeMoney < 250: # less than 250\n",
    "            tmp = []\n",
    "            for l in lst:              # for letters in lst\n",
    "                if l in VOWELS:        # check if in VOWELS\n",
    "                    pass\n",
    "                else:\n",
    "                    tmp.append(l)      # lst without VOWELS\n",
    "        return tmp\n",
    "\n",
    "    def getMove(self,category, obscured_phrase, guessed):\n",
    "        possible = self.getPossibleLetters(guessed)\n",
    "        if possible == []:\n",
    "            return 'pass'\n",
    "        else:\n",
    "            if self.smartCoinFlip() == True:\n",
    "                for x in list(reversed('ZQXJKVBPYGFWMUCLDRHSNIOATE')):\n",
    "                    if x in possible:\n",
    "                        return x\n",
    "                    else:\n",
    "                        return 'pass'\n",
    "            else:\n",
    "                return random.choice(possible)\n",
    "a = WOFComputerPlayer('test',10)\n",
    "a.getPossibleLetters(['H','F','E','T'])"
   ]
  },
  {
   "cell_type": "code",
   "execution_count": 28,
   "metadata": {},
   "outputs": [
    {
     "data": {
      "text/plain": [
       "[4, 52, 2, 4, 3, 2, 4, 3, 2, 1]"
      ]
     },
     "execution_count": 28,
     "metadata": {},
     "output_type": "execute_result"
    }
   ],
   "source": [
    "list(reversed([1,2,3,4,2,3,4,2,52,4]))"
   ]
  },
  {
   "cell_type": "code",
   "execution_count": null,
   "metadata": {},
   "outputs": [],
   "source": []
  },
  {
   "cell_type": "code",
   "execution_count": null,
   "metadata": {},
   "outputs": [],
   "source": []
  },
  {
   "cell_type": "code",
   "execution_count": null,
   "metadata": {},
   "outputs": [],
   "source": []
  },
  {
   "cell_type": "code",
   "execution_count": null,
   "metadata": {},
   "outputs": [],
   "source": []
  },
  {
   "cell_type": "code",
   "execution_count": null,
   "metadata": {},
   "outputs": [],
   "source": []
  },
  {
   "cell_type": "code",
   "execution_count": null,
   "metadata": {},
   "outputs": [],
   "source": []
  },
  {
   "cell_type": "code",
   "execution_count": null,
   "metadata": {},
   "outputs": [],
   "source": []
  },
  {
   "cell_type": "code",
   "execution_count": null,
   "metadata": {},
   "outputs": [],
   "source": []
  },
  {
   "cell_type": "code",
   "execution_count": null,
   "metadata": {},
   "outputs": [],
   "source": []
  },
  {
   "cell_type": "code",
   "execution_count": null,
   "metadata": {},
   "outputs": [],
   "source": []
  },
  {
   "cell_type": "code",
   "execution_count": null,
   "metadata": {},
   "outputs": [],
   "source": []
  },
  {
   "cell_type": "code",
   "execution_count": null,
   "metadata": {},
   "outputs": [],
   "source": []
  },
  {
   "cell_type": "code",
   "execution_count": null,
   "metadata": {},
   "outputs": [],
   "source": []
  },
  {
   "cell_type": "code",
   "execution_count": null,
   "metadata": {},
   "outputs": [],
   "source": []
  },
  {
   "cell_type": "code",
   "execution_count": null,
   "metadata": {},
   "outputs": [],
   "source": []
  },
  {
   "cell_type": "code",
   "execution_count": null,
   "metadata": {},
   "outputs": [],
   "source": []
  },
  {
   "cell_type": "code",
   "execution_count": null,
   "metadata": {},
   "outputs": [],
   "source": []
  }
 ],
 "metadata": {
  "kernelspec": {
   "display_name": "Python 3",
   "language": "python",
   "name": "python3"
  },
  "language_info": {
   "codemirror_mode": {
    "name": "ipython",
    "version": 3
   },
   "file_extension": ".py",
   "mimetype": "text/x-python",
   "name": "python",
   "nbconvert_exporter": "python",
   "pygments_lexer": "ipython3",
   "version": "3.7.3"
  }
 },
 "nbformat": 4,
 "nbformat_minor": 2
}
