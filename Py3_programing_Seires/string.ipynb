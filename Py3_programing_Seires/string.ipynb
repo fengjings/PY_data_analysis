{
 "cells": [
  {
   "cell_type": "markdown",
   "metadata": {},
   "source": [
    "Create an empty string and assign it to the variable lett. Then using range, write code such that when your code is run, lett has 7 b’s (\"bbbbbbb\")."
   ]
  },
  {
   "cell_type": "code",
   "execution_count": 1,
   "metadata": {},
   "outputs": [
    {
     "name": "stdout",
     "output_type": "stream",
     "text": [
      "bbbbbbb"
     ]
    }
   ],
   "source": [
    "lett = ''\n",
    "for i in range(7):\n",
    "    lett += 'b'\n",
    "print(lett, end='')"
   ]
  },
  {
   "cell_type": "markdown",
   "metadata": {},
   "source": [
    "Assign the value of the 23rd element of l to the variable checking."
   ]
  },
  {
   "cell_type": "code",
   "execution_count": 1,
   "metadata": {},
   "outputs": [
    {
     "name": "stdout",
     "output_type": "stream",
     "text": [
      "30\n",
      "leaders and the best\n"
     ]
    }
   ],
   "source": [
    "l =       (\"hi\", \"goodbye\", \"python\", \"106\", \"506\", 91, ['all', 'Paul', 'Jackie', \"UMSI\", 1, \"Stephen\", 4.5], 109, \"chair\", \"pizza\", \"wolverine\", 2017, 3.92, 1817, \"account\", \"readings\", \"papers\", 12, \"facebook\", \"twitter\", 193.2, \"snapchat\", \"leaders and the best\", \"social\", \"1986\", 9, 29, \"holiday\", [\"women\", \"olympics\", \"gold\", \"rio\", 21, \"2016\", \"men\"], \"26trombones\")\n",
    "\n",
    "print(len(l))\n",
    "print(l[22])\n",
    "checking = l[22]"
   ]
  },
  {
   "cell_type": "markdown",
   "metadata": {},
   "source": [
    "Create a variable called wrds and assign to it a list whose elements are the words in the string sent. Do not worry about punctuation."
   ]
  },
  {
   "cell_type": "code",
   "execution_count": 3,
   "metadata": {},
   "outputs": [
    {
     "name": "stdout",
     "output_type": "stream",
     "text": [
      "['The', 'bicentennial', 'for', 'our', 'university', 'was', 'in', '2017']\n"
     ]
    }
   ],
   "source": [
    "sent = \"The bicentennial for our university was in 2017\"\n",
    "\n",
    "wrds = sent.split()\n",
    "print(wrds)"
   ]
  },
  {
   "cell_type": "markdown",
   "metadata": {},
   "source": [
    "Create a list of numbers 0 through 40 and assign this list to the variable numbers. Then, accumulate the total of the list’s values and assign that sum to the variable sum1."
   ]
  },
  {
   "cell_type": "code",
   "execution_count": 4,
   "metadata": {},
   "outputs": [],
   "source": [
    "numbers = list(range(41))\n",
    "sum1 = sum(numbers)\n"
   ]
  },
  {
   "cell_type": "markdown",
   "metadata": {},
   "source": [
    "Below are a set of scores that students have received in the past semester. Write code to determine how many are 90 or above and assign that result to the value a_scores."
   ]
  },
  {
   "cell_type": "code",
   "execution_count": 5,
   "metadata": {},
   "outputs": [
    {
     "name": "stdout",
     "output_type": "stream",
     "text": [
      "['90', '93', '96', '97', '92', '90', '98', '100', '90', '100']\n"
     ]
    }
   ],
   "source": [
    "scores = \"67 80 90 78 93 20 79 89 96 97 92 88 79 68 58 90 98 100 79 74 83 88 80 86 85 70 90 100\"\n",
    "\n",
    "a_scores = len([i for i in scores.split() if int(i)>=90])\n",
    "\n",
    "print([i for i in scores.split() if int(i)>=90])"
   ]
  },
  {
   "cell_type": "code",
   "execution_count": null,
   "metadata": {},
   "outputs": [],
   "source": []
  }
 ],
 "metadata": {
  "kernelspec": {
   "display_name": "Python 3",
   "language": "python",
   "name": "python3"
  },
  "language_info": {
   "codemirror_mode": {
    "name": "ipython",
    "version": 3
   },
   "file_extension": ".py",
   "mimetype": "text/x-python",
   "name": "python",
   "nbconvert_exporter": "python",
   "pygments_lexer": "ipython3",
   "version": "3.7.3"
  }
 },
 "nbformat": 4,
 "nbformat_minor": 2
}
