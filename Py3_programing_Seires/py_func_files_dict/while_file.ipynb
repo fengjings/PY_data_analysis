{
 "cells": [
  {
   "cell_type": "raw",
   "metadata": {},
   "source": [
    "Write a function called stop_at_four that iterates through a list of numbers. Using a while loop, append each number to a new list until the number 4 appears. The function should return the new list."
   ]
  },
  {
   "cell_type": "code",
   "execution_count": 6,
   "metadata": {},
   "outputs": [
    {
     "name": "stdout",
     "output_type": "stream",
     "text": [
      "[1, 6, 2, 3, 9]\n",
      "[0, 9, 4.5, 1, 7]\n",
      "[]\n",
      "[]\n"
     ]
    }
   ],
   "source": [
    "\n",
    "def stop_at_four(li):\n",
    "    i=0\n",
    "    new = []\n",
    "    value = True\n",
    "    if len(li) == 0:\n",
    "        return 0\n",
    "    else:\n",
    "#         print(len(li))\n",
    "#         while i < len(li):\n",
    "#             if li[i] !=  4 and value == True:\n",
    "#                 new.append(li[i])\n",
    "#             else:\n",
    "#                 value = False\n",
    "#             i=i+1\n",
    "        while i <= len(li)-1 and li[i] != 4:\n",
    "            new.append(li[i])\n",
    "            i=i+1    \n",
    "#      \n",
    "    return new\n",
    "\n",
    "print(stop_at_four([1, 6, 2, 3, 9]))\n",
    "\n",
    "print(stop_at_four([0, 9, 4.5, 1, 7, 4, 8, 9, 3]))\n",
    "\n",
    "print(stop_at_four([4, 1, 2, 8]))\n",
    "\n",
    "print(stop_at_four([4]))\n"
   ]
  },
  {
   "cell_type": "raw",
   "metadata": {},
   "source": [
    "Result\tActual Value\tExpected Value\tNotes\n",
    "Pass\t[0, 9...1, 7]\t[0, 9...1, 7]\tTesting the function stop_at_four on the input [0, 9, 4.5, 1, 7, 4, 8, 9, 3].\n",
    "Pass\t[]\t[]\tTesting the function stop_at_four on the input [4, 1, 2, 8].\n",
    "Pass\t[]\t[]\tTesting the function stop_at_four on the input [4].\n",
    "Pass\t[1, 6, 2, 3, 9]\t[1, 6, 2, 3, 9]\tTesting that stop_at_four([1, 6, 2, 3, 9]) returns ([1, 6, 2, 3, 9])"
   ]
  },
  {
   "cell_type": "code",
   "execution_count": 1,
   "metadata": {},
   "outputs": [
    {
     "name": "stdout",
     "output_type": "stream",
     "text": [
      "Enter price of item (0 when done): 2.22222\n",
      "Subtotal: $ 2.22222\n",
      "Enter price of item (0 when done): 0\n",
      "Total items: 1\n",
      "Total $ 2.22222\n",
      "Average price per item: $ 2.22\n"
     ]
    }
   ],
   "source": [
    "def checkout():\n",
    "    total = 0\n",
    "    count = 0\n",
    "    moreItems = True\n",
    "    while moreItems:\n",
    "        price = float(input('Enter price of item (0 when done): '))\n",
    "        if price > 0:\n",
    "            count = count + 1\n",
    "            total = total + price\n",
    "            print('Subtotal: $', total)\n",
    "        elif price<0:\n",
    "            print('wrong price')\n",
    "                \n",
    "        else:\n",
    "            moreItems = False\n",
    "    if count ==0:\n",
    "        average = 0\n",
    "    else:\n",
    "        average = total / count\n",
    "    print('Total items:', count)\n",
    "    print('Total $', total)\n",
    "    print('Average price per item: $ {:.2f}'.format(average))\n",
    "\n",
    "checkout()\n"
   ]
  },
  {
   "cell_type": "code",
   "execution_count": 4,
   "metadata": {},
   "outputs": [
    {
     "name": "stdout",
     "output_type": "stream",
     "text": [
      "Do you like lima beans? Y)es or N)o: y\n",
      "Great! They are very healthy.\n"
     ]
    }
   ],
   "source": [
    "def get_yes_or_no(message):\n",
    "    valid_input = False\n",
    "    while not valid_input:\n",
    "        answer = input(message)\n",
    "        answer = answer.upper() # convert to upper case\n",
    "        if answer == 'Y' or answer == 'N':\n",
    "            valid_input = True\n",
    "        else:\n",
    "            print('Please enter Y for yes or N for no.')\n",
    "    return answer\n",
    "\n",
    "response = get_yes_or_no('Do you like lima beans? Y)es or N)o: ')\n",
    "if response == 'Y':\n",
    "    print('Great! They are very healthy.')\n",
    "else:\n",
    "    print('Too bad. If cooked right, they are quite tasty.')\n"
   ]
  },
  {
   "cell_type": "code",
   "execution_count": 5,
   "metadata": {},
   "outputs": [
    {
     "name": "stdout",
     "output_type": "stream",
     "text": [
      "stop\n"
     ]
    }
   ],
   "source": [
    "import random\n",
    "import turtle\n",
    "\n",
    "def isInScreen(w,t):\n",
    "    leftBound = - w.window_width() / 2\n",
    "    rightBound = w.window_width() / 2\n",
    "    topBound = w.window_height() / 2\n",
    "    bottomBound = -w.window_height() / 2\n",
    "\n",
    "    turtleX = t.xcor()\n",
    "    turtleY = t.ycor()\n",
    "\n",
    "    stillIn = True\n",
    "    if turtleX > rightBound or turtleX < leftBound:\n",
    "        stillIn = False\n",
    "    if turtleY > topBound or turtleY < bottomBound:\n",
    "        stillIn = False\n",
    "\n",
    "    return stillIn\n",
    "\n",
    "t = turtle.Turtle()\n",
    "wn = turtle.Screen()\n",
    "\n",
    "t.shape('turtle')\n",
    "while isInScreen(wn,t):\n",
    "    coin = random.randrange(0, 2)\n",
    "    if coin == 0:\n",
    "        t.left(90)\n",
    "    else:\n",
    "        t.right(90)\n",
    "\n",
    "    t.forward(50)\n",
    "\n",
    "wn.exitonclick()\n",
    "print('stop')"
   ]
  },
  {
   "cell_type": "raw",
   "metadata": {},
   "source": [
    "The first is that the default value is determined at the time that the function is defined, not at the time that it is invoked. So in the example above, if we wanted to invoke the function f with a value of 10 for z, we cannot simply set initial = 10 right before invoking f. See what happens in the code below, where z still gets the value 7 when f is invoked without specifying a value for z."
   ]
  },
  {
   "cell_type": "code",
   "execution_count": 6,
   "metadata": {},
   "outputs": [
    {
     "name": "stdout",
     "output_type": "stream",
     "text": [
      "x, y, z, are: 2, 3, 7\n"
     ]
    }
   ],
   "source": [
    "initial = 7\n",
    "def f(x, y =3, z=initial):\n",
    "    print(\"x, y, z, are: \" + str(x) + \", \" + str(y) + \", \" + str(z))\n",
    "\n",
    "initial = 10\n",
    "f(2)"
   ]
  },
  {
   "cell_type": "raw",
   "metadata": {},
   "source": [
    "The second tricky thing is that if the default value is set to a mutable object, such as a list or a dictionary, that object will be shared in all invocations of the function. This can get very confusing, so I suggest that you never set a default value that is a mutable object. For example, follow the exceution of this one carefully."
   ]
  },
  {
   "cell_type": "code",
   "execution_count": 7,
   "metadata": {},
   "outputs": [
    {
     "name": "stdout",
     "output_type": "stream",
     "text": [
      "[1]\n",
      "[1, 2]\n",
      "[1, 2, 3]\n",
      "['Hello', 4]\n",
      "['Hello', 5]\n"
     ]
    }
   ],
   "source": [
    "def f(a, L=[]):\n",
    "    L.append(a)\n",
    "    return L\n",
    "\n",
    "print(f(1))\n",
    "print(f(2))\n",
    "print(f(3))\n",
    "print(f(4, [\"Hello\"]))\n",
    "print(f(5, [\"Hello\"]))\n"
   ]
  },
  {
   "cell_type": "code",
   "execution_count": null,
   "metadata": {},
   "outputs": [],
   "source": []
  },
  {
   "cell_type": "code",
   "execution_count": null,
   "metadata": {},
   "outputs": [],
   "source": []
  }
 ],
 "metadata": {
  "kernelspec": {
   "display_name": "Python 3",
   "language": "python",
   "name": "python3"
  },
  "language_info": {
   "codemirror_mode": {
    "name": "ipython",
    "version": 3
   },
   "file_extension": ".py",
   "mimetype": "text/x-python",
   "name": "python",
   "nbconvert_exporter": "python",
   "pygments_lexer": "ipython3",
   "version": "3.7.3"
  }
 },
 "nbformat": 4,
 "nbformat_minor": 2
}
