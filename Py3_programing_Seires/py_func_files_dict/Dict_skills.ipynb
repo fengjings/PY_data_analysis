{
 "cells": [
  {
   "cell_type": "markdown",
   "metadata": {},
   "source": [
    "Create a dictionary called d that keeps track of all the characters in the string placement and notes how many times each character was seen. Then, find the key with the lowest value in this dictionary and assign that key to min_value."
   ]
  },
  {
   "cell_type": "code",
   "execution_count": 14,
   "metadata": {},
   "outputs": [
    {
     "name": "stdout",
     "output_type": "stream",
     "text": [
      "{'B': 2, 'e': 17, 'a': 12, 'c': 8, 'h': 4, 's': 10, ' ': 27, 'r': 7, 'o': 10, 'l': 8, 'p': 6, 't': 8, 'v': 3, 'i': 13, 'n': 7, 'g': 2, 'w': 3, 'M': 3, 'k': 2, 'd': 2, '.': 2, 'x': 1}\n",
      "2\n",
      ".\n",
      "<class 'str'>\n",
      ".\n",
      "x\n"
     ]
    }
   ],
   "source": [
    "placement = \"Beaches are cool places to visit in spring however the Mackinaw Bridge is near. Most people visit Mackinaw later since the island is a cool place to explore.\"\n",
    "\n",
    "d={}\n",
    "\n",
    "for i in placement:\n",
    "    if i not in d:\n",
    "        d[i] = 0\n",
    "    d[i] = d[i] +1\n",
    "print(d)\n",
    "\n",
    "key = d.keys()\n",
    "print(d[i])\n",
    "print(i)\n",
    "min_value = i\n",
    "# min_value = key[0]\n",
    "print(type(min_value))\n",
    "print((min_value))\n",
    "for i in key:\n",
    "    if d[i] < d[min_value]:\n",
    "        min_value = i\n",
    "print(min_value)\n",
    "\n",
    "\n",
    "\n",
    "\n"
   ]
  },
  {
   "cell_type": "code",
   "execution_count": 2,
   "metadata": {},
   "outputs": [
    {
     "name": "stdout",
     "output_type": "stream",
     "text": [
      "{'B': 2, 'e': 17, 'a': 12, 'c': 8, 'h': 4, 's': 10, ' ': 27, 'r': 7, 'o': 10, 'l': 8, 'p': 6, 't': 8, 'v': 3, 'i': 13, 'n': 7, 'g': 2, 'w': 3, 'M': 3, 'k': 2, 'd': 2, '.': 2, 'x': 1}\n",
      "[('x', 1), ('B', 2), ('g', 2), ('k', 2), ('d', 2), ('.', 2), ('v', 3), ('w', 3), ('M', 3), ('h', 4), ('p', 6), ('r', 7), ('n', 7), ('c', 8), ('l', 8), ('t', 8), ('s', 10), ('o', 10), ('a', 12), ('i', 13), ('e', 17), (' ', 27)]\n",
      "('x', 1)\n",
      "x\n"
     ]
    }
   ],
   "source": [
    "placement = \"Beaches are cool places to visit in spring however the Mackinaw Bridge is near. Most people visit Mackinaw later since the island is a cool place to explore.\"\n",
    "\n",
    "d = {}\n",
    "\n",
    "for i in placement:\n",
    "    if i not in d:\n",
    "        d[i] = 0\n",
    "    d[i] += 1\n",
    "print(d)\n",
    "a = sorted(d.items(),key = lambda a:a[1])\n",
    "print(a)\n",
    "print(a[0])\n",
    "min_value = a[0][0]\n",
    "print(min_value)"
   ]
  },
  {
   "cell_type": "markdown",
   "metadata": {},
   "source": [
    "Create a dictionary called lett_d that keeps track of all of the characters in the string product and notes how many times each character was seen. Then, find the key with the highest value in this dictionary and assign that key to max_value."
   ]
  },
  {
   "cell_type": "code",
   "execution_count": 22,
   "metadata": {},
   "outputs": [
    {
     "name": "stdout",
     "output_type": "stream",
     "text": [
      "<class 'dict_keys'>\n",
      "dict_keys(['i', 'p', 'h', 'o', 'n', 'e', ' ', 'a', 'd', 'r', 's'])\n",
      "{'i': 2, 'p': 2, 'h': 2, 'o': 3, 'n': 4, 'e': 2, ' ': 3, 'a': 2, 'd': 3, 'r': 1, 's': 1}\n",
      "n\n"
     ]
    }
   ],
   "source": [
    "product = \"iphone and android phones\"\n",
    "\n",
    "lett_d = {}\n",
    "\n",
    "for i in product:\n",
    "    if i not in lett_d:\n",
    "        lett_d[i] = 0\n",
    "    lett_d[i] = lett_d[i]+1\n",
    "\n",
    "key = lett_d.keys()\n",
    "max_value = i\n",
    "# max_value = key[0]\n",
    "for i in key:\n",
    "    if lett_d[i]> lett_d[max_value]:\n",
    "        max_value = i\n",
    "\n",
    "print(type(key))  \n",
    "print((key))   \n",
    "print(lett_d)\n",
    "print(max_value)"
   ]
  },
  {
   "cell_type": "code",
   "execution_count": 24,
   "metadata": {},
   "outputs": [
    {
     "name": "stdout",
     "output_type": "stream",
     "text": [
      "{'The': 1, 'dog': 1, 'chased': 1, 'the': 3, 'rabbit': 2, 'into': 1, 'forest': 1, 'but': 1, 'was': 1, 'too': 1, 'quick.': 1}\n"
     ]
    }
   ],
   "source": [
    "sentence = \"The dog chased the rabbit into the forest but the rabbit was too quick.\" \n",
    "\n",
    "  \n",
    "word_counts={} \n",
    "  \n",
    "\n",
    "wlist = sentence.split() \n",
    "\n",
    "\n",
    "for i in wlist: \n",
    "\n",
    "    if i not in word_counts: \n",
    "\n",
    "        word_counts[i] = 0 \n",
    "\n",
    "    word_counts[i] += 1\n",
    "print(word_counts)"
   ]
  },
  {
   "cell_type": "markdown",
   "metadata": {},
   "source": [
    "Find the least frequent letter. Create the dictionary characters that shows each character from string sally and its frequency. Then, find the least frequent letter in the string and assign the letter to the variable worst_char."
   ]
  },
  {
   "cell_type": "code",
   "execution_count": 1,
   "metadata": {},
   "outputs": [
    {
     "name": "stdout",
     "output_type": "stream",
     "text": [
      "{'s': 8, 'a': 5, 'l': 6, 'y': 3, ' ': 11, 'e': 7, 'h': 4, 'b': 2, 't': 2, 'o': 2, 'r': 2, 'n': 1, 'd': 2}\n",
      "['n', 'b', 't', 'o', 'r', 'd', 'y', 'h', 'a', 'l', 'e', 's', ' ']\n"
     ]
    }
   ],
   "source": [
    "sally = \"sally sells sea shells by the sea shore and by the road\"\n",
    "\n",
    "characters = {}\n",
    "\n",
    "for i in sally:\n",
    "    if i not in characters:\n",
    "        characters[i] = 0\n",
    "    characters[i] += 1\n",
    "\n",
    "a = sorted(characters,key = lambda x:characters[x])\n",
    "print(characters)\n",
    "print(a)\n",
    "worst_char = a[0]"
   ]
  },
  {
   "cell_type": "code",
   "execution_count": null,
   "metadata": {},
   "outputs": [],
   "source": []
  }
 ],
 "metadata": {
  "kernelspec": {
   "display_name": "Python 3",
   "language": "python",
   "name": "python3"
  },
  "language_info": {
   "codemirror_mode": {
    "name": "ipython",
    "version": 3
   },
   "file_extension": ".py",
   "mimetype": "text/x-python",
   "name": "python",
   "nbconvert_exporter": "python",
   "pygments_lexer": "ipython3",
   "version": "3.7.3"
  }
 },
 "nbformat": 4,
 "nbformat_minor": 2
}
