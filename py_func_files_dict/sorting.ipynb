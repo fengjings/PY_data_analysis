{
 "cells": [
  {
   "cell_type": "code",
   "execution_count": 1,
   "metadata": {},
   "outputs": [
    {
     "name": "stdout",
     "output_type": "stream",
     "text": [
      "['Apple', 'Blueberry', 'Cherry']\n",
      "<class 'list'>\n",
      "['Cherry', 'Apple', 'Blueberry']\n",
      "----\n",
      "['Apple', 'Blueberry', 'Cherry']\n",
      "None\n",
      "['!', '#', '-', '0', '1', '2', '3', '9', '=', '@', 'A', 'S', 'a', 'd', 'd', 'd', 'f', 'f', 'f', 's', 's', 's']\n"
     ]
    }
   ],
   "source": [
    "L2 = [\"Cherry\", \"Apple\", \"Blueberry\"]\n",
    "\n",
    "L3 = sorted(L2)\n",
    "print(L3)\n",
    "print(type(sorted(L2)))\n",
    "print(L2) # unchanged\n",
    "\n",
    "print(\"----\")\n",
    "\n",
    "L2.sort()\n",
    "print(L2)\n",
    "print(L2.sort())  #return value is None\n",
    "print(sorted('sdfsdfsdf!@#a1=-0923AS'))"
   ]
  },
  {
   "cell_type": "raw",
   "metadata": {},
   "source": [
    "Sort the list, lst from largest to smallest. Save this new list to the variable lst_sorted."
   ]
  },
  {
   "cell_type": "code",
   "execution_count": 3,
   "metadata": {},
   "outputs": [
    {
     "name": "stdout",
     "output_type": "stream",
     "text": [
      "[9, 7, 6, 5, 5, 3, 2, 1, -2]\n"
     ]
    }
   ],
   "source": [
    "lst = [3, 5, 1, 6, 7, 2, 9, -2, 5]\n",
    "\n",
    "lst_sorted = sorted(lst,reverse = True)\n",
    "print(lst_sorted)"
   ]
  },
  {
   "cell_type": "code",
   "execution_count": 6,
   "metadata": {},
   "outputs": [
    {
     "name": "stdout",
     "output_type": "stream",
     "text": [
      "['19', '14378', '8907', '16', '1005', '44', '33', '32', '871', '1450']\n"
     ]
    }
   ],
   "source": [
    "\n",
    "nums = ['1450', '33', '871', '19', '14378', '32', '1005', '44', '8907', '16']\n",
    "\n",
    "nums_sorted_lambda = sorted(nums, reverse = True,  key = lambda x: x[-1])\n",
    "print(nums_sorted_lambda)\n"
   ]
  },
  {
   "cell_type": "code",
   "execution_count": 2,
   "metadata": {},
   "outputs": [
    {
     "name": "stdout",
     "output_type": "stream",
     "text": [
      "['Yahşi Batı', 'The Heat', 'The Five-Year Engagement', 'Sherlock Holmes: A Game Of Shadows', 'Prince Of Persia: The Sands Of Time', 'Pirates Of The Caribbean: On Stranger Tides', 'Eyyvah Eyvah', 'Date Night', 'Bachelorette', 'Baby Mama']\n"
     ]
    }
   ],
   "source": [
    "a=['Date Night', 'The Heat', 'Baby Mama', 'The Five-Year Engagement', 'Sherlock Holmes: A Game Of Shadows',\n",
    " 'Bachelorette', 'Prince Of Persia: The Sands Of Time', 'Pirates Of The Caribbean: On Stranger Tides', 'Eyyvah Eyvah', 'Yahşi Batı']\n",
    "b=sorted(a,reverse = True)\n",
    "print(b)\n"
   ]
  },
  {
   "cell_type": "raw",
   "metadata": {},
   "source": [
    "how to sort this dict by value and if the value is same then sorted it by name?"
   ]
  },
  {
   "cell_type": "code",
   "execution_count": 38,
   "metadata": {},
   "outputs": [
    {
     "name": "stdout",
     "output_type": "stream",
     "text": [
      "dict_items([('Baby Mama', 64), ('The Five-Year Engagement', 63), ('Bachelorette', 56), ('The Heat', 65), ('Date Night', 67), ('Sherlock Holmes: A Game Of Shadows', 60), ('Yahşi Batı', 0), ('Eyyvah Eyvah', 0), ('Pirates Of The Caribbean: On Stranger Tides', 32), ('Prince Of Persia: The Sands Of Time', 36)])\n",
      "[('Date Night', 67), ('The Heat', 65), ('Baby Mama', 64), ('The Five-Year Engagement', 63), ('Sherlock Holmes: A Game Of Shadows', 60), ('Bachelorette', 56), ('Prince Of Persia: The Sands Of Time', 36), ('Pirates Of The Caribbean: On Stranger Tides', 32), ('Yahşi Batı', 0), ('Eyyvah Eyvah', 0)]\n",
      "['Date Night', 'The Heat', 'Baby Mama', 'The Five-Year Engagement', 'Sherlock Holmes: A Game Of Shadows', 'Bachelorette', 'Prince Of Persia: The Sands Of Time', 'Pirates Of The Caribbean: On Stranger Tides', 'Yahşi Batı', 'Eyyvah Eyvah']\n"
     ]
    }
   ],
   "source": [
    "\n",
    "mov_rating = {'Baby Mama': 64, 'The Five-Year Engagement': 63, 'Bachelorette': 56, 'The Heat': 65, 'Date Night': 67, \n",
    "'Sherlock Holmes: A Game Of Shadows': 60, 'Yahşi Batı': 0, 'Eyyvah Eyvah': 0, 'Pirates Of The Caribbean: On Stranger Tides': 32, \n",
    "'Prince Of Persia: The Sands Of Time': 36}\n",
    "\n",
    "mov_rating1 = sorted(mov_rating.items(),key=lambda x: x[1], reverse=True)\n",
    "# print(mov_rating1)\n",
    "# print(mov_rating.items())\n",
    "mov_list=[]\n",
    "grade_list=[]\n",
    "distinct_dict = []\n",
    "repeat_dict = []\n",
    "for name, grade in ((mov_rating1)):\n",
    "    if grade not in grade_list:\n",
    "        distinct_dict.append((name, grade))\n",
    "        grade_list.append(grade)\n",
    "    else:\n",
    "        repeat_dict.append((name, grade))\n",
    "# print(distinct_dict)\n",
    "final_list = []\n",
    "for name1, grade1 in ((distinct_dict)):\n",
    "    for name2, grade2 in ((repeat_dict)):\n",
    "        if grade1>grade2:\n",
    "            final_list.append(name1)\n",
    "            break\n",
    "        else:\n",
    "            pass\n",
    "        \n",
    "        \n",
    "        \n",
    "mov_rating3 = sorted(mov_rating,key=lambda x: x[1], reverse=True)\n",
    "#print(mov_rating3)\n",
    "mov_rating3[-1],mov_rating3[-2] = mov_rating3[-2],mov_rating3[-1]\n",
    "#print(mov_rating3)\n",
    "\n",
    "print(mov_rating.items())\n",
    "mov_rating4 = sorted(mov_rating.items(), key=lambda x:(x[1],x[0]),reverse = True)\n",
    "print(mov_rating4)\n",
    "mov_rating5 = []\n",
    "for i,j in mov_rating4:\n",
    "    mov_rating5.append(i)\n",
    "print(mov_rating5)"
   ]
  }
 ],
 "metadata": {
  "kernelspec": {
   "display_name": "Python 3",
   "language": "python",
   "name": "python3"
  },
  "language_info": {
   "codemirror_mode": {
    "name": "ipython",
    "version": 3
   },
   "file_extension": ".py",
   "mimetype": "text/x-python",
   "name": "python",
   "nbconvert_exporter": "python",
   "pygments_lexer": "ipython3",
   "version": "3.7.3"
  }
 },
 "nbformat": 4,
 "nbformat_minor": 2
}
