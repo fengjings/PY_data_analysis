{
 "cells": [
  {
   "cell_type": "code",
   "execution_count": 1,
   "metadata": {},
   "outputs": [
    {
     "name": "stdout",
     "output_type": "stream",
     "text": [
      "['Apple', 'Blueberry', 'Cherry']\n",
      "<class 'list'>\n",
      "['Cherry', 'Apple', 'Blueberry']\n",
      "----\n",
      "['Apple', 'Blueberry', 'Cherry']\n",
      "None\n",
      "['!', '#', '-', '0', '1', '2', '3', '9', '=', '@', 'A', 'S', 'a', 'd', 'd', 'd', 'f', 'f', 'f', 's', 's', 's']\n"
     ]
    }
   ],
   "source": [
    "L2 = [\"Cherry\", \"Apple\", \"Blueberry\"]\n",
    "\n",
    "L3 = sorted(L2)\n",
    "print(L3)\n",
    "print(type(sorted(L2)))\n",
    "print(L2) # unchanged\n",
    "\n",
    "print(\"----\")\n",
    "\n",
    "L2.sort()\n",
    "print(L2)\n",
    "print(L2.sort())  #return value is None\n",
    "print(sorted('sdfsdfsdf!@#a1=-0923AS'))"
   ]
  },
  {
   "cell_type": "raw",
   "metadata": {},
   "source": [
    "Sort the list, lst from largest to smallest. Save this new list to the variable lst_sorted."
   ]
  },
  {
   "cell_type": "code",
   "execution_count": 3,
   "metadata": {},
   "outputs": [
    {
     "name": "stdout",
     "output_type": "stream",
     "text": [
      "[9, 7, 6, 5, 5, 3, 2, 1, -2]\n"
     ]
    }
   ],
   "source": [
    "lst = [3, 5, 1, 6, 7, 2, 9, -2, 5]\n",
    "\n",
    "lst_sorted = sorted(lst,reverse = True)\n",
    "print(lst_sorted)"
   ]
  },
  {
   "cell_type": "code",
   "execution_count": 6,
   "metadata": {},
   "outputs": [
    {
     "name": "stdout",
     "output_type": "stream",
     "text": [
      "['19', '14378', '8907', '16', '1005', '44', '33', '32', '871', '1450']\n"
     ]
    }
   ],
   "source": [
    "\n",
    "nums = ['1450', '33', '871', '19', '14378', '32', '1005', '44', '8907', '16']\n",
    "\n",
    "nums_sorted_lambda = sorted(nums, reverse = True,  key = lambda x: x[-1])\n",
    "print(nums_sorted_lambda)\n"
   ]
  },
  {
   "cell_type": "code",
   "execution_count": null,
   "metadata": {},
   "outputs": [],
   "source": []
  },
  {
   "cell_type": "code",
   "execution_count": null,
   "metadata": {},
   "outputs": [],
   "source": []
  }
 ],
 "metadata": {
  "kernelspec": {
   "display_name": "Python 3",
   "language": "python",
   "name": "python3"
  },
  "language_info": {
   "codemirror_mode": {
    "name": "ipython",
    "version": 3
   },
   "file_extension": ".py",
   "mimetype": "text/x-python",
   "name": "python",
   "nbconvert_exporter": "python",
   "pygments_lexer": "ipython3",
   "version": "3.7.3"
  }
 },
 "nbformat": 4,
 "nbformat_minor": 2
}
