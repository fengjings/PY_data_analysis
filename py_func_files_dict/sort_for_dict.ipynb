{
 "cells": [
  {
   "cell_type": "raw",
   "metadata": {},
   "source": [
    "Find the least frequent letter. Create the dictionary characters that shows each character from string sally and its frequency. Then, find the least frequent letter in the string and assign the letter to the variable worst_char."
   ]
  },
  {
   "cell_type": "code",
   "execution_count": 1,
   "metadata": {},
   "outputs": [
    {
     "name": "stdout",
     "output_type": "stream",
     "text": [
      "n\n"
     ]
    }
   ],
   "source": [
    "sally = \"sally sells sea shells by the sea shore and by the road\"\n",
    "\n",
    "characters = {}\n",
    "for i in sally:\n",
    "    if i not in characters:\n",
    "        characters[i] = 0\n",
    "    characters[i] = characters[i]+1\n",
    "\n",
    "worst_char = i\n",
    "# min_value = key[0]\n",
    "\n",
    "for i in characters.keys():\n",
    "    if characters[i] < characters[worst_char]:\n",
    "        worst_char = i\n",
    "print(worst_char)"
   ]
  },
  {
   "cell_type": "code",
   "execution_count": null,
   "metadata": {},
   "outputs": [],
   "source": [
    "sorting a dictionary"
   ]
  },
  {
   "cell_type": "code",
   "execution_count": 6,
   "metadata": {},
   "outputs": [
    {
     "name": "stdout",
     "output_type": "stream",
     "text": [
      "E appears 2 times\n",
      "F appears 1 times\n",
      "B appears 2 times\n",
      "A appears 2 times\n",
      "D appears 4 times\n",
      "I appears 2 times\n",
      "C appears 1 times\n",
      "-----\n",
      "A appears 2 times\n",
      "B appears 2 times\n",
      "C appears 1 times\n",
      "D appears 4 times\n",
      "E appears 2 times\n",
      "F appears 1 times\n",
      "I appears 2 times\n"
     ]
    }
   ],
   "source": [
    "L = ['E', 'F', 'B', 'A', 'D', 'I', 'I', 'C', 'B', 'A', 'D', 'D', 'E', 'D']\n",
    "\n",
    "d = {}\n",
    "for x in L:\n",
    "    if x in d:\n",
    "        d[x] = d[x] + 1\n",
    "    else:\n",
    "        d[x] = 1\n",
    "for x in d.keys():\n",
    "    print(\"{} appears {} times\".format(x, d[x]))\n",
    "print('-----')\n",
    "y = sorted(d.keys())\n",
    "for k in y:\n",
    "    print(\"{} appears {} times\".format(k, d[k]))"
   ]
  },
  {
   "cell_type": "raw",
   "metadata": {},
   "source": [
    "With a dictionary that’s maintaining counts or some other kind of score, we might prefer to get the outputs sorted based on the count rather than based on the items. The standard way to do that in python is to sort based on a property of the key, in particular its value in the dictionary."
   ]
  },
  {
   "cell_type": "code",
   "execution_count": 7,
   "metadata": {},
   "outputs": [
    {
     "name": "stdout",
     "output_type": "stream",
     "text": [
      "D appears 4 times\n",
      "E appears 2 times\n",
      "B appears 2 times\n",
      "A appears 2 times\n",
      "I appears 2 times\n",
      "F appears 1 times\n",
      "C appears 1 times\n"
     ]
    }
   ],
   "source": [
    "L = ['E', 'F', 'B', 'A', 'D', 'I', 'I', 'C', 'B', 'A', 'D', 'D', 'E', 'D']\n",
    "\n",
    "d = {}\n",
    "for x in L:\n",
    "    if x in d:\n",
    "        d[x] = d[x] + 1\n",
    "    else:\n",
    "        d[x] = 1\n",
    "\n",
    "y = sorted(d.keys(), key=lambda a: d[a], reverse=True)\n",
    "for k in y:\n",
    "    print(\"{} appears {} times\".format(k, d[k]))"
   ]
  },
  {
   "cell_type": "raw",
   "metadata": {},
   "source": [
    "Here’s a version of that using a named function."
   ]
  },
  {
   "cell_type": "code",
   "execution_count": 8,
   "metadata": {},
   "outputs": [
    {
     "name": "stdout",
     "output_type": "stream",
     "text": [
      "D appears 4 times\n",
      "E appears 2 times\n",
      "B appears 2 times\n",
      "A appears 2 times\n",
      "I appears 2 times\n",
      "F appears 1 times\n",
      "C appears 1 times\n"
     ]
    }
   ],
   "source": [
    "L = ['E', 'F', 'B', 'A', 'D', 'I', 'I', 'C', 'B', 'A', 'D', 'D', 'E', 'D']\n",
    "\n",
    "d = {}\n",
    "for x in L:\n",
    "    if x in d:\n",
    "        d[x] = d[x] + 1\n",
    "    else:\n",
    "        d[x] = 1\n",
    "\n",
    "def g(k):\n",
    "    return d[k]\n",
    "\n",
    "y =(sorted(d.keys(), key=g, reverse=True))\n",
    "\n",
    "# now loop through the keys\n",
    "for k in y:\n",
    "    print(\"{} appears {} times\".format(k, d[k]))"
   ]
  },
  {
   "cell_type": "raw",
   "metadata": {},
   "source": [
    "An experienced programmer would probably not even separate out the sorting step. And they might take advantage of the fact that when you pass a dictionary to something that is expecting a list, its the same as passing the list of keys."
   ]
  },
  {
   "cell_type": "code",
   "execution_count": 9,
   "metadata": {},
   "outputs": [
    {
     "name": "stdout",
     "output_type": "stream",
     "text": [
      "D appears 4 times\n",
      "E appears 2 times\n",
      "B appears 2 times\n",
      "A appears 2 times\n",
      "I appears 2 times\n",
      "F appears 1 times\n",
      "C appears 1 times\n"
     ]
    }
   ],
   "source": [
    "L = ['E', 'F', 'B', 'A', 'D', 'I', 'I', 'C', 'B', 'A', 'D', 'D', 'E', 'D']\n",
    "\n",
    "d = {}\n",
    "for x in L:\n",
    "    if x in d:\n",
    "        d[x] = d[x] + 1\n",
    "    else:\n",
    "        d[x] = 1\n",
    "\n",
    "# now loop through the sorted keys\n",
    "for k in sorted(d, key=lambda k: d[k], reverse=True):\n",
    "    print(\"{} appears {} times\".format(k, d[k]))"
   ]
  },
  {
   "cell_type": "raw",
   "metadata": {},
   "source": [
    "One solution is to add a negative sign in front of len(fruit_name), which will convert all positive numbers to negative, and all negative numbers to positive. As a result, the longest elements would be first and the shortest elements would be last.\n",
    "\n",
    "We can use this for any numerical value that we want to sort, however this will not work for strings."
   ]
  },
  {
   "cell_type": "code",
   "execution_count": 10,
   "metadata": {},
   "outputs": [
    {
     "name": "stdout",
     "output_type": "stream",
     "text": [
      "blueberry\n",
      "papaya\n",
      "apple\n",
      "mango\n",
      "peach\n",
      "kiwi\n",
      "pear\n"
     ]
    }
   ],
   "source": [
    "fruits = ['peach', 'kiwi', 'apple', 'blueberry', 'papaya', 'mango', 'pear']\n",
    "new_order = sorted(fruits, key=lambda fruit_name: (-len(fruit_name), fruit_name))\n",
    "for fruit in new_order:\n",
    "    print(fruit)"
   ]
  },
  {
   "cell_type": "code",
   "execution_count": null,
   "metadata": {},
   "outputs": [],
   "source": [
    "we want to sort the states in order by the length of the first city name. "
   ]
  },
  {
   "cell_type": "code",
   "execution_count": 11,
   "metadata": {},
   "outputs": [
    {
     "name": "stdout",
     "output_type": "stream",
     "text": [
      "['Washington', 'Minnesota', 'Michigan']\n"
     ]
    }
   ],
   "source": [
    "\n",
    "states = {\"Minnesota\": [\"St. Paul\", \"Minneapolis\", \"Saint Cloud\", \"Stillwater\"],\n",
    "\"Michigan\": [\"Ann Arbor\", \"Traverse City\", \"Lansing\", \"Kalamazoo\"],\n",
    "\"Washington\": [\"Seattle\", \"Tacoma\", \"Olympia\", \"Vancouver\"]}\n",
    "\n",
    "print(sorted(states, key=lambda state: len(states[state][0])))"
   ]
  },
  {
   "cell_type": "raw",
   "metadata": {},
   "source": [
    "we want to sort by is the number of cities that begin with the letter ‘S’."
   ]
  },
  {
   "cell_type": "code",
   "execution_count": 12,
   "metadata": {},
   "outputs": [
    {
     "name": "stdout",
     "output_type": "stream",
     "text": [
      "['Michigan', 'Washington', 'Minnesota']\n"
     ]
    }
   ],
   "source": [
    "def s_cities_count(city_list):\n",
    "    ct = 0\n",
    "    for city in city_list:\n",
    "        if city[0] == \"S\":\n",
    "            ct += 1\n",
    "    return ct\n",
    "\n",
    "states = {\"Minnesota\": [\"St. Paul\", \"Minneapolis\", \"Saint Cloud\", \"Stillwater\"],\n",
    "\"Michigan\": [\"Ann Arbor\", \"Traverse City\", \"Lansing\", \"Kalamazoo\"],\n",
    "\"Washington\": [\"Seattle\", \"Tacoma\", \"Olympia\", \"Vancouver\"]}\n",
    "\n",
    "print(sorted(states, key=lambda state: s_cities_count(states[state])))"
   ]
  },
  {
   "cell_type": "raw",
   "metadata": {},
   "source": [
    "Write code to switch the order of the winners list so that it is now A to Z by last name. Assign this list to the variable z_winners."
   ]
  },
  {
   "cell_type": "code",
   "execution_count": 15,
   "metadata": {},
   "outputs": [
    {
     "name": "stdout",
     "output_type": "stream",
     "text": [
      "['Kazuo Ishiguro', 'Alice Munro', 'Alvin E. Roth', 'Youyou Tu', 'Rainer Weiss', 'Malala Yousafzai']\n"
     ]
    }
   ],
   "source": [
    "winners = ['Alice Munro', 'Alvin E. Roth', 'Kazuo Ishiguro', 'Malala Yousafzai', 'Rainer Weiss', 'Youyou Tu']\n",
    "\n",
    "def name(st):\n",
    "    return st.split()[-1]\n",
    "z_winners = sorted(winners, key = name)\n",
    "\n",
    "z_winners = sorted(winners, key = lambda st: st.split()[-1])\n",
    "print(z_winners)"
   ]
  },
  {
   "cell_type": "raw",
   "metadata": {},
   "source": [
    "Given the same dictionary, medals, now sort by the medal count. Save the three countries with the highest medal count to the list, top_three."
   ]
  },
  {
   "cell_type": "code",
   "execution_count": 16,
   "metadata": {},
   "outputs": [
    {
     "name": "stdout",
     "output_type": "stream",
     "text": [
      "['United States', 'China', 'Russia', 'Germany', 'Japan', 'South Korea']\n"
     ]
    }
   ],
   "source": [
    "medals = {'Japan':41, 'Russia':56, 'South Korea':21, 'United States':121, 'Germany':42, 'China':70}\n",
    "\n",
    "alphabetical = sorted(medals, key = lambda x: medals[x],reverse = True)\n",
    "print(alphabetical)\n",
    "top_three = alphabetical[:3]"
   ]
  },
  {
   "cell_type": "raw",
   "metadata": {},
   "source": [
    "Create a function called last_four that takes in an ID number and returns the last four digits. For example, the number 17573005 should return 3005. Then, use this function to sort the list of ids stored in the variable, ids, from lowest to highest. Save this sorted list in the variable, sorted_ids. Hint: Remember that only strings can be indexed, so conversions may be needed."
   ]
  },
  {
   "cell_type": "code",
   "execution_count": 17,
   "metadata": {},
   "outputs": [],
   "source": [
    "def last_four(x):\n",
    "    return int(str(x)[-4:-1])\n",
    "\n",
    "ids = [17573005, 17572342, 17579000, 17570002, 17572345, 17579329]\n",
    "\n",
    "sorted_ids = sorted(ids,key = last_four)"
   ]
  },
  {
   "cell_type": "raw",
   "metadata": {},
   "source": [
    "We have provided some synthetic (fake, semi-randomly generated) twitter data in a csv file named project_twitter_data.csv which has the text of a tweet, the number of retweets of that tweet, and the number of replies to that tweet. We have also words that express positive sentiment and negative sentiment, in the files positive_words.txt and negative_words.txt.\n",
    "\n",
    "Your task is to build a sentiment classifier, which will detect how positive or negative each tweet is. You will create a csv file, which contains columns for the Number of Retweets, Number of Replies, Positive Score (which is how many happy words are in the tweet), Negative Score (which is how many angry words are in the tweet), and the Net Score for each tweet. At the end, you upload the csv file to Excel or Google Sheets, and produce a graph of the Net Score vs Number of Retweets.\n",
    "\n",
    "To start, define a function called strip_punctuation which takes one parameter, a string which represents a word, and removes characters considered punctuation from everywhere in the word. (Hint: remember the .replace() method for strings.)"
   ]
  },
  {
   "cell_type": "code",
   "execution_count": 20,
   "metadata": {},
   "outputs": [
    {
     "name": "stdout",
     "output_type": "stream",
     "text": [
      "Amazing\n",
      "Amazing\n"
     ]
    }
   ],
   "source": [
    "punctuation_chars = [\"'\", '\"', \",\", \".\", \"!\", \":\", \";\", '#', '@']\n",
    "\n",
    "def strip_punctuation(st):\n",
    "    for i in punctuation_chars:\n",
    "        if i in st:\n",
    "            # print(type(i))\n",
    "            st = st.replace(i,'')\n",
    "#     print(st)\n",
    "    return st\n",
    "\n",
    "print(strip_punctuation('#Amazing'))"
   ]
  },
  {
   "cell_type": "raw",
   "metadata": {},
   "source": [
    "Next, copy in your strip_punctuation function and define a function called get_pos which takes one parameter, a string which represents one or more sentences, and calculates how many words in the string are considered positive words. Use the list, positive_words to determine what words will count as positive. The function should return a positive integer - how many occurrences there are of positive words in the text. Note that all of the words in positive_words are lower cased, so you’ll need to convert all the words in the input string to lower case as well."
   ]
  },
  {
   "cell_type": "code",
   "execution_count": 45,
   "metadata": {},
   "outputs": [
    {
     "name": "stdout",
     "output_type": "stream",
     "text": [
      "2\n",
      "2\n",
      "1\n",
      "0\n",
      "0\n"
     ]
    }
   ],
   "source": [
    "def strip_punctuation(st):\n",
    "    for i in punctuation_chars:\n",
    "        if i in st:\n",
    "            st = st.replace(i,'')\n",
    "    return st\n",
    "\n",
    "def get_pos(st):\n",
    "    st = strip_punctuation(st)\n",
    "    st_list = st.lower().split()\n",
    "    words = len(st_list)\n",
    "    posi_num = 0\n",
    "    for word in st_list:\n",
    "        if word in positive_words:\n",
    "            posi_num = posi_num+1\n",
    "    return posi_num\n",
    "\n",
    "\n",
    "punctuation_chars = [\"'\", '\"', \",\", \".\", \"!\", \":\", \";\", '#', '@']\n",
    "# list of positive words to use\n",
    "positive_words = []\n",
    "with open(\"positive_words.txt\") as pos_f:\n",
    "    for lin in pos_f:\n",
    "        #print(lin)\n",
    "        a = lin.split(',')\n",
    "        # print(a[1:-1])\n",
    "        if lin[0] != ';' and lin[0] != '\\n':\n",
    "            positive_words.append(lin.strip())\n",
    "\n",
    "with open(\"positive_words.txt\") as pos_f:\n",
    "    a = pos_f.readlines()\n",
    "    b=a[0]\n",
    "    c = b.replace('\\'',' ')\n",
    "    d = c.replace('[',' ')\n",
    "    e = d.replace(']',' ')\n",
    "    f = e.replace(',',' ')\n",
    "    strf = f.split()\n",
    "    positive_words = strf[:]\n",
    "            \n",
    "print(get_pos(\"what a truly wonderful day it is today! #incredible\"))\n",
    "print(get_pos(\"what a truly Wonderful day it is today! #incredible\"))\n",
    "print(get_pos(\"what a truly wonderful day it is today!\"))\n",
    "print(get_pos(\"the weather is what it is.\"))\n",
    "print(get_pos(\"The weather truely is abnormal - it's october and already snowing!\"))            \n",
    "            \n",
    "            \n",
    "            \n",
    "            \n",
    "            \n",
    "            "
   ]
  },
  {
   "cell_type": "raw",
   "metadata": {},
   "source": [
    "Next, copy in your strip_punctuation function and define a function called get_neg which takes one parameter, a string which represents one or more sentences, and calculates how many words in the string are considered negative words. Use the list, negative_words to determine what words will count as negative. The function should return a positive integer - how many occurrences there are of negative words in the text. Note that all of the words in negative_words are lower cased, so you’ll need to convert all the words in the input string to lower case as well."
   ]
  },
  {
   "cell_type": "code",
   "execution_count": 48,
   "metadata": {},
   "outputs": [
    {
     "name": "stdout",
     "output_type": "stream",
     "text": [
      "0\n",
      "1\n",
      "2\n",
      "0\n"
     ]
    }
   ],
   "source": [
    "punctuation_chars = [\"'\", '\"', \",\", \".\", \"!\", \":\", \";\", '#', '@']\n",
    "\n",
    "negative_words = []\n",
    "with open(\"negative_words.txt\") as pos_f:\n",
    "    for lin in pos_f:\n",
    "        if lin[0] != ';' and lin[0] != '\\n':\n",
    "            negative_words.append(lin.strip())\n",
    "    \n",
    "with open(\"negative_words.txt\") as pos_f:\n",
    "    a = pos_f.readlines()\n",
    "    b=a[0]\n",
    "    c = b.replace('\\'',' ')\n",
    "    d = c.replace('[',' ')\n",
    "    e = d.replace(']',' ')\n",
    "    f = e.replace(',',' ')\n",
    "    strf = f.split()\n",
    "    negative_words = strf[:]\n",
    "\n",
    "\n",
    "def strip_punctuation(st):\n",
    "    for i in punctuation_chars:\n",
    "        if i in st:\n",
    "            st = st.replace(i,'')\n",
    "    return st\n",
    "\n",
    "def get_neg(st):\n",
    "    st = strip_punctuation(st)\n",
    "    st_list = st.lower().split()\n",
    "    nega_num = 0\n",
    "    for word in st_list:\n",
    "        if word in negative_words:\n",
    "            nega_num = nega_num+1\n",
    "    return nega_num\n",
    "\n",
    "print(get_neg('what a truly wonderful day it is today! #incredible'))\n",
    "print(get_neg(\"The weather truely is abnormal - it's october and already snowing!\"))\n",
    "print(get_neg('their departure was rather abrupt. However, it was amusing how aloof they had been.'))\n",
    "print(get_neg('the weather is what it is.'))"
   ]
  },
  {
   "cell_type": "code",
   "execution_count": 65,
   "metadata": {
    "scrolled": true
   },
   "outputs": [
    {
     "name": "stdout",
     "output_type": "stream",
     "text": [
      "[0, 2, 1, 1, 2, 2, 2, 0, 0, 4, 0, 1, 2, 1, 1, 2, 3, 3, 1]\n",
      "[0, 2, 0, 0, 0, 0, 0, 3, 2, 0, 1, 0, 0, 0, 0, 1, 0, 1, 1]\n",
      "[0, 0, 1, 1, 2, 2, 2, -3, -2, 4, -1, 1, 2, 1, 1, 1, 3, 2, 0]\n",
      "['3', '1', '1', '3', '6', '9', '19', '0', '0', '82', '0', '0', '47', '2', '0', '0', '4', '19', '0']\n",
      "['0', '0', '2', '1', '0', '5', '0', '0', '0', '2', '0', '0', '0', '1', '2', '0', '6', '0', '0']\n"
     ]
    }
   ],
   "source": [
    "def strip_punctuation(st):\n",
    "    for i in punctuation_chars:\n",
    "        if i in st:\n",
    "            st = st.replace(i,'')\n",
    "    return st\n",
    "\n",
    "def get_pos(st):\n",
    "    st = strip_punctuation(st)\n",
    "    st_list = st.lower().split()\n",
    "    words = len(st_list)\n",
    "    posi_num = 0\n",
    "    for word in st_list:\n",
    "        if word in positive_words:\n",
    "            posi_num = posi_num+1\n",
    "    return posi_num\n",
    "\n",
    "def get_neg(st):\n",
    "    st = strip_punctuation(st)\n",
    "    st_list = st.lower().split()\n",
    "    nega_num = 0\n",
    "    for word in st_list:\n",
    "        if word in negative_words:\n",
    "            nega_num = nega_num+1\n",
    "    return nega_num\n",
    "\n",
    "punctuation_chars = [\"'\", '\"', \",\", \".\", \"!\", \":\", \";\", '#', '@']\n",
    "# list of positive words to use\n",
    "positive_words = []\n",
    "with open(\"positive_words.txt\") as pos_f:\n",
    "    a = pos_f.readlines()\n",
    "    b=a[0]\n",
    "    c = b.replace('\\'',' ')\n",
    "    d = c.replace('[',' ')\n",
    "    e = d.replace(']',' ')\n",
    "    f = e.replace(',',' ')\n",
    "    strf = f.split()\n",
    "    positive_words = strf[:]\n",
    "\n",
    "negative_words = []\n",
    "with open(\"negative_words.txt\") as pos_f:\n",
    "    a = pos_f.readlines()\n",
    "    b=a[0]\n",
    "    c = b.replace('\\'',' ')\n",
    "    d = c.replace('[',' ')\n",
    "    e = d.replace(']',' ')\n",
    "    f = e.replace(',',' ')\n",
    "    strf = f.split()\n",
    "    negative_words = strf[:]\n",
    "\n",
    "with open('project_twitter_data.csv','r') as data:\n",
    "    pos_score = []\n",
    "    neg_score = []\n",
    "    net_score = []\n",
    "    retweet_count = []\n",
    "    reply_count = []\n",
    "    row = 0\n",
    "    for i in data.readlines():\n",
    "        # print(i)\n",
    "        if row >= 1:\n",
    "            split_data = i.split(',') \n",
    "           # print(split_data)\n",
    "            # print(split_data[1])\n",
    "            pos_score.append(get_pos(split_data[0]))\n",
    "            neg_score.append(get_neg(split_data[0]))\n",
    "            net_score.append(get_pos(split_data[0])-get_neg(split_data[0]))\n",
    "            retweet_count.append((split_data[1]))\n",
    "            reply_wout_n = (split_data[2])\n",
    "            # print(reply_wout_n[:-1])\n",
    "            reply_count.append(reply_wout_n[:-1])\n",
    "        else:\n",
    "            #print(i)\n",
    "            row = row+1\n",
    "print(pos_score) \n",
    "print(neg_score)\n",
    "print(net_score)\n",
    "print(retweet_count)\n",
    "print(reply_count)\n",
    "\n",
    "\n",
    "with open('resulting_data.csv','w') as dataw:\n",
    "    dataw.write('Number of Retweets, Number of Replies, Positive Score, Negative Score, Net Score' + \"\\n\")\n",
    "    for i in range(len(retweet_count)):\n",
    "        dataw.write(str(retweet_count[i])+','+ str(reply_count[i])+',' + str(pos_score[i])+',' +str(neg_score[i])+',' +str(net_score[i]) +'\\n')\n",
    "\n"
   ]
  },
  {
   "cell_type": "code",
   "execution_count": null,
   "metadata": {},
   "outputs": [],
   "source": []
  }
 ],
 "metadata": {
  "kernelspec": {
   "display_name": "Python 3",
   "language": "python",
   "name": "python3"
  },
  "language_info": {
   "codemirror_mode": {
    "name": "ipython",
    "version": 3
   },
   "file_extension": ".py",
   "mimetype": "text/x-python",
   "name": "python",
   "nbconvert_exporter": "python",
   "pygments_lexer": "ipython3",
   "version": "3.7.3"
  }
 },
 "nbformat": 4,
 "nbformat_minor": 2
}
