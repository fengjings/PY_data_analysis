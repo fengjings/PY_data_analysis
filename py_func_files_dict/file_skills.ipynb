{
 "cells": [
  {
   "cell_type": "markdown",
   "metadata": {},
   "source": [
    "Use SP500 to calculate mean_sp and max_interest"
   ]
  },
  {
   "cell_type": "code",
   "execution_count": 7,
   "metadata": {},
   "outputs": [
    {
     "name": "stdout",
     "output_type": "stream",
     "text": [
      "['Date', 'SP500', 'Dividend', 'Earnings', 'Consumer Price Index', 'Long Interest Rate', 'Real Price', 'Real Dividend', 'Real Earnings', 'PE10\\n']\n",
      "['1', '1', '2016']\n",
      "['2', '1', '2016']\n",
      "['3', '1', '2016']\n",
      "['4', '1', '2016']\n",
      "['5', '1', '2016']\n",
      "['6', '1', '2016']\n",
      "2083.89\n",
      "['7', '1', '2016']\n",
      "2148.9\n",
      "['8', '1', '2016']\n",
      "2170.95\n",
      "['9', '1', '2016']\n",
      "2157.69\n",
      "['10', '1', '2016']\n",
      "2143.02\n",
      "['11', '1', '2016']\n",
      "2164.99\n",
      "['12', '1', '2016']\n",
      "2246.63\n",
      "['1', '1', '2017']\n",
      "2275.12\n",
      "['2', '1', '2017']\n",
      "2329.91\n",
      "['3', '1', '2017']\n",
      "2366.82\n",
      "['4', '1', '2017']\n",
      "2359.31\n",
      "['5', '1', '2017']\n",
      "2395.35\n",
      "['6', '1', '2017']\n",
      "['7', '1', '2017']\n",
      "['8', '1', '2017']\n",
      "['9', '1', '2017']\n",
      "['10', '1', '2017']\n",
      "['11', '1', '2017']\n",
      "['12', '1', '2017']\n",
      "2236.8816666666667 12 2.49\n"
     ]
    }
   ],
   "source": [
    "with open('SP500.txt','r') as txt:\n",
    "    row = 0\n",
    "    sumsp = 0\n",
    "    count = 0\n",
    "    max_interest = -10000.0\n",
    "    for line in txt:\n",
    "        row +=1\n",
    "        linelist = ((line.split(',')))\n",
    "        if row == 1:\n",
    "            head = linelist\n",
    "            print(head)\n",
    "        else:\n",
    "            print(linelist[0].split('/'))\n",
    "            date = (linelist[0].split('/'))\n",
    "            if (int(date[0])>=6 and int(date[2])==2016) or (int(date[0])<=5 and int(date[2])==2017):\n",
    "                #print(date)\n",
    "                count +=1\n",
    "                sumsp = sumsp + float(linelist[1])\n",
    "                print(linelist[1])\n",
    "                if float(linelist[5]) > max_interest:\n",
    "                    max_interest = float(linelist[5])\n",
    "    \n",
    "mean_SP = sumsp / count\n",
    "print(mean_SP,count,max_interest)"
   ]
  },
  {
   "cell_type": "code",
   "execution_count": null,
   "metadata": {},
   "outputs": [],
   "source": []
  },
  {
   "cell_type": "code",
   "execution_count": null,
   "metadata": {},
   "outputs": [],
   "source": []
  }
 ],
 "metadata": {
  "kernelspec": {
   "display_name": "Python 3",
   "language": "python",
   "name": "python3"
  },
  "language_info": {
   "codemirror_mode": {
    "name": "ipython",
    "version": 3
   },
   "file_extension": ".py",
   "mimetype": "text/x-python",
   "name": "python",
   "nbconvert_exporter": "python",
   "pygments_lexer": "ipython3",
   "version": "3.7.3"
  }
 },
 "nbformat": 4,
 "nbformat_minor": 2
}
